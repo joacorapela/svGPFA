{
  "cells": [
    {
      "cell_type": "code",
      "execution_count": null,
      "metadata": {
        "collapsed": false
      },
      "outputs": [],
      "source": [
        "%matplotlib inline"
      ]
    },
    {
      "cell_type": "markdown",
      "metadata": {},
      "source": [
        "\n# Simulated data and default params\n\nIn this notebook we use simulated data to estimate an svGPFA model using the default initial parameters.\n"
      ]
    },
    {
      "cell_type": "markdown",
      "metadata": {},
      "source": [
        "## Estimate model\n\n### Import required packages\n\n"
      ]
    },
    {
      "cell_type": "code",
      "execution_count": null,
      "metadata": {
        "collapsed": false
      },
      "outputs": [],
      "source": [
        "import sys\nimport time\nimport warnings\nimport torch\nimport pickle\n\nimport gcnu_common.stats.pointProcesses.tests\nimport svGPFA.stats.kernels\nimport svGPFA.stats.svGPFAModelFactory\nimport svGPFA.stats.svEM\nimport svGPFA.utils.miscUtils\nimport svGPFA.utils.initUtils\nimport svGPFA.plot.plotUtilsPlotly"
      ]
    },
    {
      "cell_type": "markdown",
      "metadata": {},
      "source": [
        "### Get spikes times\nThe spikes times of all neurons in all trials should be stored in nested lists. ``spikes_times[r][n]`` should contain a list of spikes times of neuron ``n`` in trial ``r``.\n\n"
      ]
    },
    {
      "cell_type": "code",
      "execution_count": null,
      "metadata": {
        "collapsed": false
      },
      "outputs": [],
      "source": [
        "sim_res_filename = \"../../examples/data/32451751_simRes.pickle\" # simulation results filename\nwith open(sim_res_filename, \"rb\") as f:\n    sim_res = pickle.load(f)\nspikes_times = sim_res[\"spikes\"]\nn_trials = len(spikes_times)\nn_neurons = len(spikes_times[0])\ntrials_start_time = 0.0\ntrials_end_time = 1.0\ntrials_start_times = [trials_start_time] * n_trials\ntrials_end_times = [trials_end_time] * n_trials"
      ]
    },
    {
      "cell_type": "markdown",
      "metadata": {},
      "source": [
        "### Check that spikes have been epoched correctly\n\n"
      ]
    },
    {
      "cell_type": "markdown",
      "metadata": {},
      "source": [
        "### Plot spikes \nPlot the spikes of all trials of a randomly chosen neuron. Most trials should\ncontain at least one spike.\n\n"
      ]
    },
    {
      "cell_type": "code",
      "execution_count": null,
      "metadata": {
        "collapsed": false
      },
      "outputs": [],
      "source": [
        "neuron_to_plot_index = torch.randint(low=0, high=n_neurons, size=(1,)).item()\nfig = svGPFA.plot.plotUtilsPlotly.getSpikesTimesPlotOneNeuron(\n    spikes_times=spikes_times,\n    neuron_index=neuron_to_plot_index,\n    title=f\"Neuron index: {neuron_to_plot_index}\",\n)\nfig"
      ]
    },
    {
      "cell_type": "markdown",
      "metadata": {},
      "source": [
        "### Run some simple checks on spikes\nThe function ``checkEpochedSpikesTimes`` tests that:\n\n  a. every neuron fired at least one spike across all trials,\n  b. for each trial, the spikes times of every neuron are between the trial\n     start and end times.\n\nIf any check fails, a ``ValueError`` will be raised. Otherwise a checks\npassed message should be printed.\n\n"
      ]
    },
    {
      "cell_type": "code",
      "execution_count": null,
      "metadata": {
        "collapsed": false
      },
      "outputs": [],
      "source": [
        "try:\n    gcnu_common.utils.neural_data_analysis.checkEpochedSpikesTimes(\n        spikes_times=spikes_times, trials_start_times=trials_start_times,\n        trials_end_times=trials_end_times,\n    )\nexcept ValueError:\n    raise\nprint(\"Checks passed\")"
      ]
    },
    {
      "cell_type": "markdown",
      "metadata": {},
      "source": [
        "### Set estimation hyperparameters\n\n"
      ]
    },
    {
      "cell_type": "code",
      "execution_count": null,
      "metadata": {
        "collapsed": false
      },
      "outputs": [],
      "source": [
        "n_latents = 2\nem_max_iter = 30\nmodel_save_filename = \"../results/simulation_model.pickle\""
      ]
    },
    {
      "cell_type": "markdown",
      "metadata": {},
      "source": [
        "### Get parameters\n\n"
      ]
    },
    {
      "cell_type": "markdown",
      "metadata": {},
      "source": [
        "#### Build default parameters specificiation\n\n"
      ]
    },
    {
      "cell_type": "code",
      "execution_count": null,
      "metadata": {
        "collapsed": false
      },
      "outputs": [],
      "source": [
        "default_params_spec = svGPFA.utils.initUtils.getDefaultParamsDict(\n    n_neurons=n_neurons, n_trials=n_trials, n_latents=n_latents,\n    em_max_iter=em_max_iter)"
      ]
    },
    {
      "cell_type": "markdown",
      "metadata": {},
      "source": [
        "#### Get parameters and kernels types from the parameters specification\n\n"
      ]
    },
    {
      "cell_type": "code",
      "execution_count": null,
      "metadata": {
        "collapsed": false
      },
      "outputs": [],
      "source": [
        "params, kernels_types = svGPFA.utils.initUtils.getParamsAndKernelsTypes(\n    n_trials=n_trials, n_neurons=n_neurons, n_latents=n_latents,\n    trials_start_times=trials_start_times,\n    trials_end_times=trials_end_times,\n    default_params_spec=default_params_spec)"
      ]
    },
    {
      "cell_type": "markdown",
      "metadata": {},
      "source": [
        "### Create kernels, a model and set its initial parameters\n\n"
      ]
    },
    {
      "cell_type": "markdown",
      "metadata": {},
      "source": [
        "#### Build kernels\n\n"
      ]
    },
    {
      "cell_type": "code",
      "execution_count": null,
      "metadata": {
        "collapsed": false
      },
      "outputs": [],
      "source": [
        "kernels_params0 = params[\"initial_params\"][\"posterior_on_latents\"][\"kernels_matrices_store\"][\"kernels_params0\"]\nkernels = svGPFA.utils.miscUtils.buildKernels(\n    kernels_types=kernels_types, kernels_params=kernels_params0)"
      ]
    },
    {
      "cell_type": "markdown",
      "metadata": {},
      "source": [
        "#### Create model\n\n"
      ]
    },
    {
      "cell_type": "code",
      "execution_count": null,
      "metadata": {
        "collapsed": false
      },
      "outputs": [],
      "source": [
        "model = svGPFA.stats.svGPFAModelFactory.SVGPFAModelFactory.\\\n    buildModelPyTorch(kernels=kernels)"
      ]
    },
    {
      "cell_type": "markdown",
      "metadata": {},
      "source": [
        "#### Set initial parameters\n\n"
      ]
    },
    {
      "cell_type": "code",
      "execution_count": null,
      "metadata": {
        "collapsed": false
      },
      "outputs": [],
      "source": [
        "model.setParamsAndData(\n    measurements=spikes_times,\n    initial_params=params[\"initial_params\"],\n    eLLCalculationParams=params[\"ell_calculation_params\"],\n    priorCovRegParam=params[\"optim_params\"][\"prior_cov_reg_param\"])"
      ]
    },
    {
      "cell_type": "markdown",
      "metadata": {},
      "source": [
        "### Maximize the Lower Bound\n(Warning: with the parameters above, this step takes around 5 minutes for 30 em_max_iter)\n\n\n"
      ]
    },
    {
      "cell_type": "code",
      "execution_count": null,
      "metadata": {
        "collapsed": false
      },
      "outputs": [],
      "source": [
        "# svEM = svGPFA.stats.svEM.SVEM_PyTorch()\n# tic = time.perf_counter()\n# lowerBoundHist, elapsedTimeHist, terminationInfo, iterationsModelParams = \\\n#     svEM.maximize(model=model, optim_params=params[\"optim_params\"],\n#                   method=params[\"optim_params\"][\"optim_method\"],\n#                   out=sys.stdout)\n# toc = time.perf_counter()\n# print(f\"Elapsed time {toc - tic:0.4f} seconds\")\n# \n# resultsToSave = {\"lowerBoundHist\": lowerBoundHist,\n#                  \"elapsedTimeHist\": elapsedTimeHist,\n#                  \"terminationInfo\": terminationInfo,\n#                  \"iterationModelParams\": iterationsModelParams,\n#                  \"model\": model}\n# with open(model_save_filename, \"wb\") as f:\n#     pickle.dump(resultsToSave, f)\n# print(\"Saved results to {:s}\".format(model_save_filename))"
      ]
    },
    {
      "cell_type": "markdown",
      "metadata": {},
      "source": [
        "..  \n\n"
      ]
    },
    {
      "cell_type": "code",
      "execution_count": null,
      "metadata": {
        "collapsed": false
      },
      "outputs": [],
      "source": [
        "with open(model_save_filename, \"rb\") as f:\n    load_res = pickle.load(f)\nlowerBoundHist = load_res[\"lowerBoundHist\"]\nelapsedTimeHist = load_res[\"elapsedTimeHist\"]\nmodel = load_res[\"model\"]"
      ]
    },
    {
      "cell_type": "markdown",
      "metadata": {},
      "source": [
        "## Goodness-of-fit analysis\n\n"
      ]
    },
    {
      "cell_type": "markdown",
      "metadata": {},
      "source": [
        "#### Set goodness-of-fit variables\n\n"
      ]
    },
    {
      "cell_type": "code",
      "execution_count": null,
      "metadata": {
        "collapsed": false
      },
      "outputs": [],
      "source": [
        "ks_test_gamma = 10                                 # number of simulations for the KS test numerical correction\ntrial_for_gof = 0\ncluster_id_for_gof = 1\nn_time_steps_IF = 100\n\ntrials_times = svGPFA.utils.miscUtils.getTrialsTimes(\n    start_times=trials_start_times,\n    end_times=trials_end_times,\n    n_steps=n_time_steps_IF)"
      ]
    },
    {
      "cell_type": "markdown",
      "metadata": {},
      "source": [
        "#### Calculate expected intensity function values (for KS test and IF plots)\n\n"
      ]
    },
    {
      "cell_type": "code",
      "execution_count": null,
      "metadata": {
        "collapsed": false
      },
      "outputs": [],
      "source": [
        "with torch.no_grad():\n    epm_cif_values = model.computeExpectedPosteriorCIFs(times=trials_times)\ncif_values_GOF = epm_cif_values[trial_for_gof][cluster_id_for_gof]"
      ]
    },
    {
      "cell_type": "markdown",
      "metadata": {},
      "source": [
        "#### KS time-rescaling GOF test\n\n"
      ]
    },
    {
      "cell_type": "code",
      "execution_count": null,
      "metadata": {
        "collapsed": false
      },
      "outputs": [],
      "source": [
        "trial_times_GOF = trials_times[trial_for_gof, :, 0]\nspikes_times_GOF = spikes_times[trial_for_gof][cluster_id_for_gof].numpy()\nif len(spikes_times_GOF) == 0:\n    raise ValueError(\"No spikes found for goodness-of-fit analysis\")\n\nwith warnings.catch_warnings():\n    warnings.simplefilter(\"ignore\")\n    diffECDFsX, diffECDFsY, estECDFx, estECDFy, simECDFx, simECDFy, cb = \\\n        gcnu_common.stats.pointProcesses.tests.KSTestTimeRescalingNumericalCorrection(\n            spikes_times=spikes_times_GOF, cif_times=trial_times_GOF,\n            cif_values=cif_values_GOF, gamma=ks_test_gamma)\ntitle = \"Trial {:d}, Neuron {:d}\".format(trial_for_gof, cluster_id_for_gof)\nfig = svGPFA.plot.plotUtilsPlotly.getPlotResKSTestTimeRescalingNumericalCorrection(diffECDFsX=diffECDFsX, diffECDFsY=diffECDFsY, estECDFx=estECDFx, estECDFy=estECDFy, simECDFx=simECDFx, simECDFy=simECDFy, cb=cb, title=title)\nfig"
      ]
    },
    {
      "cell_type": "markdown",
      "metadata": {},
      "source": [
        "### ROC predictive analysis\n\n"
      ]
    },
    {
      "cell_type": "code",
      "execution_count": null,
      "metadata": {
        "collapsed": false
      },
      "outputs": [],
      "source": [
        "with warnings.catch_warnings():\n    warnings.simplefilter(\"ignore\")\n    fpr, tpr, roc_auc = svGPFA.utils.miscUtils.computeSpikeClassificationROC(\n        spikes_times=spikes_times_GOF,\n        cif_times=trial_times_GOF,\n        cif_values=cif_values_GOF)\nfig = svGPFA.plot.plotUtilsPlotly.getPlotResROCAnalysis(\n    fpr=fpr, tpr=tpr, auc=roc_auc, title=title)\nfig"
      ]
    },
    {
      "cell_type": "markdown",
      "metadata": {},
      "source": [
        "## Plotting\n\n"
      ]
    },
    {
      "cell_type": "markdown",
      "metadata": {},
      "source": [
        "### Imports for plotting\n\n"
      ]
    },
    {
      "cell_type": "code",
      "execution_count": null,
      "metadata": {
        "collapsed": false
      },
      "outputs": [],
      "source": [
        "import numpy as np\nimport plotly.express as px"
      ]
    },
    {
      "cell_type": "markdown",
      "metadata": {},
      "source": [
        "### Set plotting parameters\n\n"
      ]
    },
    {
      "cell_type": "code",
      "execution_count": null,
      "metadata": {
        "collapsed": false
      },
      "outputs": [],
      "source": [
        "neuron_to_plot = 0\nlatent_to_plot = 0\ntrials_colorscale = \"hot\""
      ]
    },
    {
      "cell_type": "markdown",
      "metadata": {},
      "source": [
        "#### Set trials colors\n\n"
      ]
    },
    {
      "cell_type": "code",
      "execution_count": null,
      "metadata": {
        "collapsed": false
      },
      "outputs": [],
      "source": [
        "trials_colors = px.colors.sample_colorscale(\n    colorscale=trials_colorscale, samplepoints=n_trials,\n    colortype=\"rgb\")\ntrials_colors_patterns = [f\"rgba{trial_color[3:-1]}, {{:f}})\"\n                          for trial_color in trials_colors]"
      ]
    },
    {
      "cell_type": "markdown",
      "metadata": {},
      "source": [
        "#### Set trials ids\n\n"
      ]
    },
    {
      "cell_type": "code",
      "execution_count": null,
      "metadata": {
        "collapsed": false
      },
      "outputs": [],
      "source": [
        "trials_ids = [r for r in range(n_trials)]"
      ]
    },
    {
      "cell_type": "markdown",
      "metadata": {},
      "source": [
        "### Lower bound history\n\n"
      ]
    },
    {
      "cell_type": "code",
      "execution_count": null,
      "metadata": {
        "collapsed": false
      },
      "outputs": [],
      "source": [
        "fig = svGPFA.plot.plotUtilsPlotly.getPlotLowerBoundHist(\n    lowerBoundHist=lowerBoundHist)\nfig"
      ]
    },
    {
      "cell_type": "markdown",
      "metadata": {},
      "source": [
        "### Latent across trials\n\n"
      ]
    },
    {
      "cell_type": "code",
      "execution_count": null,
      "metadata": {
        "collapsed": false
      },
      "outputs": [],
      "source": [
        "test_mu_k, test_var_k = model.predictLatents(times=trials_times)\nfig = svGPFA.plot.plotUtilsPlotly.getPlotLatentAcrossTrials(\n    times=trials_times.numpy(), latentsMeans=test_mu_k,\n    latentsSTDs=torch.sqrt(test_var_k), latentToPlot=latent_to_plot,\n    trials_colors_patterns=trials_colors_patterns, xlabel=\"Time (msec)\")\nfig"
      ]
    },
    {
      "cell_type": "markdown",
      "metadata": {},
      "source": [
        "#### Orthonormalized latent across trials\n\n"
      ]
    },
    {
      "cell_type": "code",
      "execution_count": null,
      "metadata": {
        "collapsed": false
      },
      "outputs": [],
      "source": [
        "testMuK, testVarK = model.predictLatents(times=trials_times)\ntestMuK_np = [testMuK[r].detach().numpy() for r in range(len(testMuK))]\nestimatedC, estimatedD = model.getSVEmbeddingParams()\nestimatedC_np = estimatedC.detach().numpy()\nfig = svGPFA.plot.plotUtilsPlotly.getPlotOrthonormalizedLatentAcrossTrials(\n    trials_times=trials_times,\n    latentsMeans=testMuK_np,\n    C=estimatedC_np,\n    trials_ids=trials_ids,\n    latentToPlot=latent_to_plot,\n    trials_colors=trials_colors,\n    xlabel=\"Time (msec)\")\nfig"
      ]
    },
    {
      "cell_type": "markdown",
      "metadata": {},
      "source": [
        "### Embedding\n\n"
      ]
    },
    {
      "cell_type": "code",
      "execution_count": null,
      "metadata": {
        "collapsed": false
      },
      "outputs": [],
      "source": [
        "embedding_means, embedding_vars = model.predictEmbedding(times=trials_times)\nembedding_means = embedding_means.detach().numpy()\nembedding_vars = embedding_vars.detach().numpy()\ntitle = \"Neuron {:d}\".format(neuron_to_plot)\nfig = svGPFA.plot.plotUtilsPlotly.getPlotEmbeddingAcrossTrials(times=trials_times.numpy(), embeddingsMeans=embedding_means[:,:,neuron_to_plot], embeddingsSTDs=np.sqrt(embedding_vars[:,:,neuron_to_plot]), trials_colors_patterns=trials_colors_patterns, title=title)\nfig"
      ]
    },
    {
      "cell_type": "markdown",
      "metadata": {},
      "source": [
        "### IFs\n\n"
      ]
    },
    {
      "cell_type": "code",
      "execution_count": null,
      "metadata": {
        "collapsed": false
      },
      "outputs": [],
      "source": [
        "with torch.no_grad():\n    ePos_IF_values = model.computeExpectedPosteriorCIFs(times=trials_times)\nfig = svGPFA.plot.plotUtilsPlotly.getPlotCIFsOneNeuronAllTrials(\n    trials_times=trials_times, cif_values=ePos_IF_values,\n    trials_ids=trials_ids, neuron_index=neuron_to_plot,\n    trials_colors=trials_colors)\nfig"
      ]
    },
    {
      "cell_type": "markdown",
      "metadata": {},
      "source": [
        "### Embedding parameters\n\n"
      ]
    },
    {
      "cell_type": "code",
      "execution_count": null,
      "metadata": {
        "collapsed": false
      },
      "outputs": [],
      "source": [
        "estimatedC, estimatedD = model.getSVEmbeddingParams()\nfig = svGPFA.plot.plotUtilsPlotly.getPlotEmbeddingParams(C=estimatedC.numpy(), d=estimatedD.numpy())\nfig"
      ]
    },
    {
      "cell_type": "markdown",
      "metadata": {},
      "source": [
        "### Kernels parameters\n\n"
      ]
    },
    {
      "cell_type": "code",
      "execution_count": null,
      "metadata": {
        "collapsed": false
      },
      "outputs": [],
      "source": [
        "kernelsParams = model.getKernelsParams()\nkernelsTypes = [type(kernel).__name__ for kernel in model.getKernels()]\nfig = svGPFA.plot.plotUtilsPlotly.getPlotKernelsParams(\n    kernelsTypes=kernelsTypes, kernelsParams=kernelsParams)\nfig"
      ]
    },
    {
      "cell_type": "markdown",
      "metadata": {},
      "source": [
        ".. raw:: html\n\n   <h3><font color=\"red\">To run the Python script or Jupyter notebook below,\n   please download them to the <i>examples/sphinx_gallery</i> folder of the\n   repository and execute them from there.</font></h3>\n\n"
      ]
    },
    {
      "cell_type": "code",
      "execution_count": null,
      "metadata": {
        "collapsed": false
      },
      "outputs": [],
      "source": [
        "# sphinx_gallery_thumbnail_path = '_static/model.png'"
      ]
    }
  ],
  "metadata": {
    "kernelspec": {
      "display_name": "Python 3",
      "language": "python",
      "name": "python3"
    },
    "language_info": {
      "codemirror_mode": {
        "name": "ipython",
        "version": 3
      },
      "file_extension": ".py",
      "mimetype": "text/x-python",
      "name": "python",
      "nbconvert_exporter": "python",
      "pygments_lexer": "ipython3",
      "version": "3.9.16"
    }
  },
  "nbformat": 4,
  "nbformat_minor": 0
}