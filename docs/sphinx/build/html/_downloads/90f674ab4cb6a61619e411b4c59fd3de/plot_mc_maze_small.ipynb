{
  "cells": [
    {
      "cell_type": "code",
      "execution_count": null,
      "metadata": {
        "collapsed": false
      },
      "outputs": [],
      "source": [
        "%matplotlib inline"
      ]
    },
    {
      "cell_type": "markdown",
      "metadata": {},
      "source": [
        "\n# Recordings from the primary motor and dorsal premotor cortex striatum of a monkey performing a delayed-reach task\n\nIn this notebook we download publically available data from Dandi, epoch it, run svGPFA and plot its results.\n"
      ]
    },
    {
      "cell_type": "markdown",
      "metadata": {},
      "source": [
        "## Setup environment\n\n"
      ]
    },
    {
      "cell_type": "markdown",
      "metadata": {},
      "source": [
        "### Import required packages\n\n"
      ]
    },
    {
      "cell_type": "code",
      "execution_count": null,
      "metadata": {
        "collapsed": false
      },
      "outputs": [],
      "source": [
        "import sys\nimport warnings\nimport pickle\nimport time\nimport configparser\nimport numpy as np\nimport pandas as pd\nimport torch\n\nfrom dandi.dandiapi import DandiAPIClient\nfrom pynwb import NWBHDF5IO\n\nimport gcnu_common.utils.neural_data_analysis\nimport gcnu_common.stats.pointProcesses.tests\nimport gcnu_common.utils.config_dict\nimport svGPFA.stats.svGPFAModelFactory\nimport svGPFA.stats.svEM\nimport svGPFA.utils.miscUtils\nimport svGPFA.utils.initUtils\nimport svGPFA.plot.plotUtilsPlotly"
      ]
    },
    {
      "cell_type": "markdown",
      "metadata": {},
      "source": [
        "### Set data parameters\n\n"
      ]
    },
    {
      "cell_type": "code",
      "execution_count": null,
      "metadata": {
        "collapsed": false
      },
      "outputs": [],
      "source": [
        "dandiset_id = \"000140\"\nfilepath = \"sub-Jenkins/sub-Jenkins_ses-small_desc-train_behavior+ecephys.nwb\"\nepoch_event_name = \"move_onset_time\""
      ]
    },
    {
      "cell_type": "markdown",
      "metadata": {},
      "source": [
        "### Set estimation hyperparameters\n\n"
      ]
    },
    {
      "cell_type": "code",
      "execution_count": null,
      "metadata": {
        "collapsed": false
      },
      "outputs": [],
      "source": [
        "n_latents = 10\nem_max_iter_dyn = 100\ncommon_n_ind_points = 15\nest_init_number = 0\nest_init_config_filename_pattern = \"../init/{:08d}_jenkins_small_estimation_metaData.ini\"\nmodel_save_filename = \\\n    f\"../results/jenkins_small_model_emMaxIter{em_max_iter_dyn}.pickle\""
      ]
    },
    {
      "cell_type": "markdown",
      "metadata": {},
      "source": [
        "## Epoch\n\n"
      ]
    },
    {
      "cell_type": "markdown",
      "metadata": {},
      "source": [
        "### Download data\n\n"
      ]
    },
    {
      "cell_type": "code",
      "execution_count": null,
      "metadata": {
        "collapsed": false
      },
      "outputs": [],
      "source": [
        "with DandiAPIClient() as client:\n\tasset = client.get_dandiset(dandiset_id, \"draft\").get_asset_by_path(filepath)\n\ts3_path = asset.get_content_url(follow_redirects=1, strip_query=True)\n\nio = NWBHDF5IO(s3_path, mode=\"r\", driver=\"ros3\")\nnwbfile = io.read()\nunits = nwbfile.units\nunits_df = units.to_dataframe()\n\n# n_neurons\nn_neurons = units_df.shape[0]\n\n# continuous spikes times\ncontinuous_spikes_times = [None for r in range(n_neurons)]\nfor n in range(n_neurons):\n    continuous_spikes_times[n] = units_df.iloc[n]['spike_times']\n\n# trials\ntrials_df = nwbfile.intervals[\"trials\"].to_dataframe()\n\n# n_trials\nn_trials = trials_df.shape[0]"
      ]
    },
    {
      "cell_type": "markdown",
      "metadata": {},
      "source": [
        "### Epoch spikes times\n\n"
      ]
    },
    {
      "cell_type": "code",
      "execution_count": null,
      "metadata": {
        "collapsed": false
      },
      "outputs": [],
      "source": [
        "trials_start_times = [None for r in range(n_trials)]\ntrials_end_times = [None for r in range(n_trials)]\nspikes_times = [[None for n in range(n_neurons)] for r in range(n_trials)]\nfor n in range(n_neurons):\n    for r in range(n_trials):\n        epoch_start_time = trials_df.iloc[r][\"start_time\"]\n        epoch_end_time = trials_df.iloc[r][\"stop_time\"]\n        epoch_time = trials_df.iloc[r][epoch_event_name]\n        spikes_times[r][n] = (continuous_spikes_times[n][\n            np.logical_and(epoch_start_time <= continuous_spikes_times[n],\n                           continuous_spikes_times[n] <= epoch_end_time)] -\n            epoch_time)\n        trials_start_times[r] = epoch_start_time - epoch_time\n        trials_end_times[r] = epoch_end_time - epoch_time"
      ]
    },
    {
      "cell_type": "markdown",
      "metadata": {},
      "source": [
        "### Check that spikes have been epoched correctly\n\n"
      ]
    },
    {
      "cell_type": "markdown",
      "metadata": {},
      "source": [
        "### Plot spikes \nPlot the spikes of all trials of a randomly chosen neuron. Most trials should\ncontain at least one spike.\n\n"
      ]
    },
    {
      "cell_type": "code",
      "execution_count": null,
      "metadata": {
        "collapsed": false
      },
      "outputs": [],
      "source": [
        "neuron_to_plot_index = torch.randint(low=0, high=n_neurons, size=(1,)).item()\nfig = svGPFA.plot.plotUtilsPlotly.getSpikesTimesPlotOneNeuron(\n    spikes_times=spikes_times,\n    neuron_index=neuron_to_plot_index,\n    title=f\"Neuron index: {neuron_to_plot_index}\",\n)\nfig"
      ]
    },
    {
      "cell_type": "markdown",
      "metadata": {},
      "source": [
        "### Run some simple checks on spikes\nThe function ``checkEpochedSpikesTimes`` tests that:\n\n  a. every neuron fired at least one spike across all trials,\n  b. for each trial, the spikes times of every neuron are between the trial\n     start and end times.\n\nIf any check fails, a ``ValueError`` will be raised. Otherwise a checks\npassed message should be printed.\n\n"
      ]
    },
    {
      "cell_type": "code",
      "execution_count": null,
      "metadata": {
        "collapsed": false
      },
      "outputs": [],
      "source": [
        "try:\n    gcnu_common.utils.neural_data_analysis.checkEpochedSpikesTimes(\n        spikes_times=spikes_times, trials_start_times=trials_start_times,\n        trials_end_times=trials_end_times,\n    )\nexcept ValueError:\n    raise\nprint(\"Checks passed\")"
      ]
    },
    {
      "cell_type": "markdown",
      "metadata": {},
      "source": [
        "## Get parameters\nDetails on how to specify svGPFA parameters are provided [here](../params.html)\n\n"
      ]
    },
    {
      "cell_type": "markdown",
      "metadata": {},
      "source": [
        "### Dynamic parameters specification\n\n"
      ]
    },
    {
      "cell_type": "code",
      "execution_count": null,
      "metadata": {
        "collapsed": false
      },
      "outputs": [],
      "source": [
        "dynamic_params_spec = {\n    \"optim_params\": {\"em_max_iter\": em_max_iter_dyn},\n    \"ind_points_locs_params0\": {\"common_n_ind_points\": common_n_ind_points},\n}"
      ]
    },
    {
      "cell_type": "markdown",
      "metadata": {},
      "source": [
        "### Config file parameters specification\nThe configuration file appears [here](https://github.com/joacorapela/svGPFA/blob/master/examples/init/00000000_IBL_estimation_metaData.ini)\n\n"
      ]
    },
    {
      "cell_type": "code",
      "execution_count": null,
      "metadata": {
        "collapsed": false
      },
      "outputs": [],
      "source": [
        "args_info = svGPFA.utils.initUtils.getArgsInfo()\nest_init_config_filename = est_init_config_filename_pattern.format(\n    est_init_number)\nest_init_config = configparser.ConfigParser()\nest_init_config.read(est_init_config_filename)\n\nstrings_dict = gcnu_common.utils.config_dict.GetDict(\n    config=est_init_config).get_dict()\nconfig_file_params_spec = \\\n    svGPFA.utils.initUtils.getParamsDictFromStringsDict(\n        n_latents=n_latents, n_trials=n_trials,\n        strings_dict=strings_dict, args_info=args_info)"
      ]
    },
    {
      "cell_type": "markdown",
      "metadata": {},
      "source": [
        "### Get the parameters from the dynamic and configuration file parameter specifications\n\n"
      ]
    },
    {
      "cell_type": "code",
      "execution_count": null,
      "metadata": {
        "collapsed": false
      },
      "outputs": [],
      "source": [
        "params, kernels_types = svGPFA.utils.initUtils.getParamsAndKernelsTypes(\n    n_trials=n_trials, n_neurons=n_neurons, n_latents=n_latents,\n    trials_start_times=trials_start_times,\n    trials_end_times=trials_end_times,\n    dynamic_params_spec=dynamic_params_spec,\n    config_file_params_spec=config_file_params_spec)"
      ]
    },
    {
      "cell_type": "markdown",
      "metadata": {},
      "source": [
        "## Estimate svGPFA model\n\n"
      ]
    },
    {
      "cell_type": "markdown",
      "metadata": {},
      "source": [
        "### Create kernels, a model and set its initial parameters\n\n"
      ]
    },
    {
      "cell_type": "markdown",
      "metadata": {},
      "source": [
        "### Build kernels\n\n"
      ]
    },
    {
      "cell_type": "code",
      "execution_count": null,
      "metadata": {
        "collapsed": false
      },
      "outputs": [],
      "source": [
        "kernels_params0 = params[\"initial_params\"][\"posterior_on_latents\"][\"kernels_matrices_store\"][\"kernels_params0\"]\nkernels = svGPFA.utils.miscUtils.buildKernels(\n    kernels_types=kernels_types, kernels_params=kernels_params0)"
      ]
    },
    {
      "cell_type": "markdown",
      "metadata": {},
      "source": [
        "### Create model\n\n"
      ]
    },
    {
      "cell_type": "code",
      "execution_count": null,
      "metadata": {
        "collapsed": false
      },
      "outputs": [],
      "source": [
        "kernelMatrixInvMethod = svGPFA.stats.svGPFAModelFactory.kernelMatrixInvChol\nindPointsCovRep = svGPFA.stats.svGPFAModelFactory.indPointsCovChol\nmodel = svGPFA.stats.svGPFAModelFactory.SVGPFAModelFactory.buildModelPyTorch(\n    conditionalDist=svGPFA.stats.svGPFAModelFactory.PointProcess,\n    linkFunction=svGPFA.stats.svGPFAModelFactory.ExponentialLink,\n    embeddingType=svGPFA.stats.svGPFAModelFactory.LinearEmbedding,\n    kernels=kernels, kernelMatrixInvMethod=kernelMatrixInvMethod,\n    indPointsCovRep=indPointsCovRep)"
      ]
    },
    {
      "cell_type": "markdown",
      "metadata": {},
      "source": [
        "### Set initial parameters\n\n"
      ]
    },
    {
      "cell_type": "code",
      "execution_count": null,
      "metadata": {
        "collapsed": false
      },
      "outputs": [],
      "source": [
        "model.setParamsAndData(\n    measurements=spikes_times,\n    initial_params=params[\"initial_params\"],\n    eLLCalculationParams=params[\"ell_calculation_params\"],\n    priorCovRegParam=params[\"optim_params\"][\"prior_cov_reg_param\"])"
      ]
    },
    {
      "cell_type": "markdown",
      "metadata": {},
      "source": [
        "### Maximize the Lower Bound\n(Warning: with the parameters above, this step takes around 5 minutes for 30 em_max_iter)\n\n"
      ]
    },
    {
      "cell_type": "code",
      "execution_count": null,
      "metadata": {
        "collapsed": false
      },
      "outputs": [],
      "source": [
        "svEM = svGPFA.stats.svEM.SVEM_PyTorch()\ntic = time.perf_counter()\nlowerBoundHist, elapsedTimeHist, terminationInfo, iterationsModelParams = \\\nsvEM.maximize(model=model, optim_params=params[\"optim_params\"],\n              method=params[\"optim_params\"][\"optim_method\"], out=sys.stdout)\ntoc = time.perf_counter()\nprint(f\"Elapsed time {toc - tic:0.4f} seconds\")\n\nresultsToSave = {\"lowerBoundHist\": lowerBoundHist,\n                 \"elapsedTimeHist\": elapsedTimeHist,\n                 \"terminationInfo\": terminationInfo,\n                 \"iterationModelParams\": iterationsModelParams,\n                 \"model\": model}\nwith open(model_save_filename, \"wb\") as f:\n    pickle.dump(resultsToSave, f)\nprint(\"Saved results to {:s}\".format(model_save_filename))"
      ]
    },
    {
      "cell_type": "markdown",
      "metadata": {},
      "source": [
        "..  with open(model_save_filename, \"rb\") as f:\n       estResults = pickle.load(f)\n   lowerBoundHist = estResults[\"lowerBoundHist\"]\n   elapsedTimeHist = estResults[\"elapsedTimeHist\"]\n   model = estResults[\"model\"]\n\n"
      ]
    },
    {
      "cell_type": "markdown",
      "metadata": {},
      "source": [
        "## Goodness-of-fit analysis\n\n"
      ]
    },
    {
      "cell_type": "markdown",
      "metadata": {},
      "source": [
        "### Set goodness-of-fit variables\n\n"
      ]
    },
    {
      "cell_type": "code",
      "execution_count": null,
      "metadata": {
        "collapsed": false
      },
      "outputs": [],
      "source": [
        "ks_test_gamma = 10\ntrial_for_gof = 0\nneuron_for_gof = 0\nn_time_steps_IF = 100\n\ntrials_times = svGPFA.utils.miscUtils.getTrialsTimes(\n    start_times=trials_start_times,\n    end_times=trials_end_times,\n    n_steps=n_time_steps_IF)"
      ]
    },
    {
      "cell_type": "markdown",
      "metadata": {},
      "source": [
        "### Calculate expected intensity function values (for KS test and IF plots)\n\n"
      ]
    },
    {
      "cell_type": "code",
      "execution_count": null,
      "metadata": {
        "collapsed": false
      },
      "outputs": [],
      "source": [
        "with torch.no_grad():\n    cif_values = model.computeExpectedPosteriorCIFs(times=trials_times)\ncif_values_GOF = cif_values[trial_for_gof][neuron_for_gof]"
      ]
    },
    {
      "cell_type": "markdown",
      "metadata": {},
      "source": [
        "### KS time-rescaling GOF test\n\n"
      ]
    },
    {
      "cell_type": "code",
      "execution_count": null,
      "metadata": {
        "collapsed": false
      },
      "outputs": [],
      "source": [
        "trial_times_GOF = trials_times[trial_for_gof, :, 0]\nspikes_times_GOF = spikes_times[trial_for_gof][neuron_for_gof]\nif len(spikes_times_GOF) == 0:\n    raise ValueError(\"No spikes found for goodness-of-fit analysis\")\n\nwith warnings.catch_warnings():\n    warnings.simplefilter(\"ignore\")\n    diffECDFsX, diffECDFsY, estECDFx, estECDFy, simECDFx, simECDFy, cb = \\\n        gcnu_common.stats.pointProcesses.tests.\\\n        KSTestTimeRescalingNumericalCorrection(spikes_times=spikes_times_GOF,\n            cif_times=trial_times_GOF, cif_values=cif_values_GOF,\n            gamma=ks_test_gamma)\n\ntitle = \"Trial {:d}, Neuron {:d} ({:d} spikes)\".format(\n    trial_for_gof, neuron_for_gof, len(spikes_times_GOF))\nfig = svGPFA.plot.plotUtilsPlotly.getPlotResKSTestTimeRescalingNumericalCorrection(diffECDFsX=diffECDFsX, diffECDFsY=diffECDFsY, estECDFx=estECDFx, estECDFy=estECDFy, simECDFx=simECDFx, simECDFy=simECDFy, cb=cb, title=title)\nfig"
      ]
    },
    {
      "cell_type": "markdown",
      "metadata": {},
      "source": [
        "### ROC predictive analysis\n\n"
      ]
    },
    {
      "cell_type": "code",
      "execution_count": null,
      "metadata": {
        "collapsed": false
      },
      "outputs": [],
      "source": [
        "with warnings.catch_warnings():\n    warnings.simplefilter(\"ignore\")\n    fpr, tpr, roc_auc = svGPFA.utils.miscUtils.computeSpikeClassificationROC(\n        spikes_times=spikes_times_GOF,\n        cif_times=trial_times_GOF,\n        cif_values=cif_values_GOF)\nfig = svGPFA.plot.plotUtilsPlotly.getPlotResROCAnalysis(\n    fpr=fpr, tpr=tpr, auc=roc_auc, title=title)\nfig"
      ]
    },
    {
      "cell_type": "markdown",
      "metadata": {},
      "source": [
        "## Plotting\n\n"
      ]
    },
    {
      "cell_type": "markdown",
      "metadata": {},
      "source": [
        "### Imports for plotting\n\n"
      ]
    },
    {
      "cell_type": "code",
      "execution_count": null,
      "metadata": {
        "collapsed": false
      },
      "outputs": [],
      "source": [
        "import numpy as np\nimport pandas as pd"
      ]
    },
    {
      "cell_type": "markdown",
      "metadata": {},
      "source": [
        "### Set plotting variables\n\n"
      ]
    },
    {
      "cell_type": "code",
      "execution_count": null,
      "metadata": {
        "collapsed": false
      },
      "outputs": [],
      "source": [
        "latent_to_plot = 0\nlatents_to_3D_plot = [0, 1, 2]\nneuron_to_plot = 0\ntrial_to_plot = 0\ntrials_ids = np.arange(n_trials)\nneurons_ids = np.arange(n_neurons)\nchoices_colors_patterns = [\"rgba(0,0,255,{:f})\", \"rgba(255,0,0,{:f})\"]\nalign_event_name = \"response_times\"\nevents_names = [\"target_on_time\", \"go_cue_time\", \"move_onset_time\"]\nevents_colors = [\"magenta\", \"green\", \"black\"]\nevents_markers = [\"circle\", \"circle\", \"circle\"]"
      ]
    },
    {
      "cell_type": "markdown",
      "metadata": {},
      "source": [
        "### Plot lower bound history\n\n"
      ]
    },
    {
      "cell_type": "code",
      "execution_count": null,
      "metadata": {
        "collapsed": false
      },
      "outputs": [],
      "source": [
        "fig = svGPFA.plot.plotUtilsPlotly.getPlotLowerBoundHist(\n    elapsedTimeHist=elapsedTimeHist, lowerBoundHist=lowerBoundHist)\nfig"
      ]
    },
    {
      "cell_type": "markdown",
      "metadata": {},
      "source": [
        "### Plot estimated latent across trials\n\n"
      ]
    },
    {
      "cell_type": "code",
      "execution_count": null,
      "metadata": {
        "collapsed": false
      },
      "outputs": [],
      "source": [
        "testMuK, testVarK = model.predictLatents(times=trials_times)\nfig = svGPFA.plot.plotUtilsPlotly.getPlotLatentAcrossTrials(\n    times=trials_times.numpy(),\n    latentsMeans=testMuK,\n    latentsSTDs=torch.sqrt(testVarK),\n    trials_ids=trials_ids,\n    latentToPlot=latent_to_plot,\n    xlabel=\"Time (msec)\")\nfig"
      ]
    },
    {
      "cell_type": "markdown",
      "metadata": {},
      "source": [
        "### Plot orthonormalized estimated latent across trials\n\n"
      ]
    },
    {
      "cell_type": "code",
      "execution_count": null,
      "metadata": {
        "collapsed": false
      },
      "outputs": [],
      "source": [
        "testMuK, _ = model.predictLatents(times=trials_times)\ntest_mu_k_np = [testMuK[r].detach().numpy() for r in range(len(testMuK))]\nestimatedC, estimatedD = model.getSVEmbeddingParams()\nestimatedC_np = estimatedC.detach().numpy()\nfig = svGPFA.plot.plotUtilsPlotly.getPlotOrthonormalizedLatentAcrossTrials(\n    trials_times=trials_times, latentsMeans=test_mu_k_np, latentToPlot=latent_to_plot,\n    C=estimatedC_np, trials_ids=trials_ids, xlabel=\"Time (msec)\")\nfig"
      ]
    },
    {
      "cell_type": "markdown",
      "metadata": {},
      "source": [
        "### Plot 3D scatter plot of orthonormalized latents\n\n"
      ]
    },
    {
      "cell_type": "code",
      "execution_count": null,
      "metadata": {
        "collapsed": false
      },
      "outputs": [],
      "source": [
        "fig = svGPFA.plot.plotUtilsPlotly.get3DPlotOrthonormalizedLatentsAcrossTrials(\n    trials_times=trials_times.numpy(), latentsMeans=test_mu_k_np,\n    C=estimatedC_np, trials_ids=trials_ids,\n    latentsToPlot=latents_to_3D_plot)\nfig"
      ]
    },
    {
      "cell_type": "markdown",
      "metadata": {},
      "source": [
        "### Plot embedding\n\n"
      ]
    },
    {
      "cell_type": "code",
      "execution_count": null,
      "metadata": {
        "collapsed": false
      },
      "outputs": [],
      "source": [
        "embeddingMeans, embeddingVars = model.predictEmbedding(times=trials_times)\nembeddingMeans = embeddingMeans.detach().numpy()\nembeddingVars = embeddingVars.detach().numpy()\ntitle = \"Neuron {:d}\".format(neuron_to_plot)\nfig = svGPFA.plot.plotUtilsPlotly.getPlotEmbeddingAcrossTrials(\n    times=trials_times.numpy(),\n    embeddingsMeans=embeddingMeans[:, :, neuron_to_plot],\n    embeddingsSTDs=np.sqrt(embeddingVars[:, :, neuron_to_plot]),\n    title=title)\nfig"
      ]
    },
    {
      "cell_type": "markdown",
      "metadata": {},
      "source": [
        "### Plot intensity functions for one neuron and all trials\n\n"
      ]
    },
    {
      "cell_type": "code",
      "execution_count": null,
      "metadata": {
        "collapsed": false
      },
      "outputs": [],
      "source": [
        "title = f\"Neuron: {neuron_to_plot}\"\nfig = svGPFA.plot.plotUtilsPlotly.getPlotCIFsOneNeuronAllTrials(\n    trials_times=trials_times,\n    cif_values=cif_values,\n    neuron_index=neuron_to_plot,\n    spikes_times=spikes_times,\n    trials_ids=trials_ids,\n    title=title)\nfig"
      ]
    },
    {
      "cell_type": "markdown",
      "metadata": {},
      "source": [
        "### Plot orthonormalized embedding parameters\n\n"
      ]
    },
    {
      "cell_type": "code",
      "execution_count": null,
      "metadata": {
        "collapsed": false
      },
      "outputs": [],
      "source": [
        "hovertemplate = \"value: %{y}<br>\" + \\\n                \"neuron index: %{x}<br>\" + \\\n                \"%{text}\"\ntext = [f\"neuron: {neuron}\" for neuron in neurons_ids]\nestimatedC, estimatedD = model.getSVEmbeddingParams()\nfig = svGPFA.plot.plotUtilsPlotly.getPlotOrthonormalizedEmbeddingParams(\n    C=estimatedC.numpy(), d=estimatedD.numpy(),\n    hovertemplate=hovertemplate, text=text)\nfig"
      ]
    },
    {
      "cell_type": "markdown",
      "metadata": {},
      "source": [
        "### Plot kernel parameters\n\n"
      ]
    },
    {
      "cell_type": "code",
      "execution_count": null,
      "metadata": {
        "collapsed": false
      },
      "outputs": [],
      "source": [
        "kernelsParams = model.getKernelsParams()\nkernelsTypes = [type(kernel).__name__ for kernel in model.getKernels()]\nfig = svGPFA.plot.plotUtilsPlotly.getPlotKernelsParams(\n    kernelsTypes=kernelsTypes, kernelsParams=kernelsParams)\nfig"
      ]
    },
    {
      "cell_type": "markdown",
      "metadata": {},
      "source": [
        ".. raw:: html\n\n   <h3><font color=\"red\">To run the Python script or Jupyter notebook below,\n   please download them to the <i>examples/sphinx_gallery</i> folder of the\n   repository and execute them from there.</font></h3>\n\n"
      ]
    },
    {
      "cell_type": "code",
      "execution_count": null,
      "metadata": {
        "collapsed": false
      },
      "outputs": [],
      "source": [
        "# sphinx_gallery_thumbnail_path = '_static/npsl_logo.jpg'"
      ]
    }
  ],
  "metadata": {
    "kernelspec": {
      "display_name": "Python 3",
      "language": "python",
      "name": "python3"
    },
    "language_info": {
      "codemirror_mode": {
        "name": "ipython",
        "version": 3
      },
      "file_extension": ".py",
      "mimetype": "text/x-python",
      "name": "python",
      "nbconvert_exporter": "python",
      "pygments_lexer": "ipython3",
      "version": "3.9.16"
    }
  },
  "nbformat": 4,
  "nbformat_minor": 0
}