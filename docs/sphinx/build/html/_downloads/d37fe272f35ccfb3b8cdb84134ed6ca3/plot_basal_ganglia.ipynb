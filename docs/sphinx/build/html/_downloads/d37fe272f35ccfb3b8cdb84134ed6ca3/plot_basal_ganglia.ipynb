{
  "cells": [
    {
      "cell_type": "code",
      "execution_count": null,
      "metadata": {
        "collapsed": false
      },
      "outputs": [],
      "source": [
        "%matplotlib inline"
      ]
    },
    {
      "cell_type": "markdown",
      "metadata": {},
      "source": [
        "\n# Basal ganglia recordings from a mouse performing a bandit task\n\nIn this notebook we use data recorded from the basal ganglia of a mouse\nperforming a bandit task from the to estimate an svGPFA model\n"
      ]
    },
    {
      "cell_type": "markdown",
      "metadata": {},
      "source": [
        "## 1. Estimate model\n\n### 1.1 Import required packages\n\n"
      ]
    },
    {
      "cell_type": "code",
      "execution_count": null,
      "metadata": {
        "collapsed": false
      },
      "outputs": [],
      "source": [
        "import sys\nimport time\nimport warnings\nimport torch\nimport pickle\nimport configparser\nimport pandas as pd\n\nimport gcnu_common.utils.neural_data_analysis\nimport gcnu_common.stats.pointProcesses.tests\nimport gcnu_common.utils.config_dict\nimport svGPFA.stats.svGPFAModelFactory\nimport svGPFA.stats.svEM\nimport svGPFA.utils.miscUtils\nimport svGPFA.utils.initUtils\nimport svGPFA.plot.plotUtilsPlotly"
      ]
    },
    {
      "cell_type": "markdown",
      "metadata": {},
      "source": [
        "### 1.2 Get spikes times\n\n"
      ]
    },
    {
      "cell_type": "code",
      "execution_count": null,
      "metadata": {
        "collapsed": false
      },
      "outputs": [],
      "source": [
        "block_types_indices = [0]\nregion_spikes_times_filename_pattern = \"../data/00000000_regionGPe_blockTypeIndices0_spikes_times_epochedaligned__last_center_out.{:s}\"\nmin_nSpikes_perNeuron_perTrial = 1\n\nregion_spikes_times_filename = \\\n    region_spikes_times_filename_pattern.format(\"pickle\")\nwith open(region_spikes_times_filename, \"rb\") as f:\n    loadRes = pickle.load(f)\nspikes_times = loadRes[\"spikes_times\"]\ntrials_start_times = loadRes[\"trials_start_times\"]\ntrials_end_times = loadRes[\"trials_end_times\"]\n\n\nevents_times_filename = (\"../data/s008_tab_m1113182_LR__20210516_173815__\"\n                         \"probabilistic_switching.df.csv\")\nevents_times = pd.read_csv(events_times_filename)\ntrials_indices = [r for r in range(len(events_times))\n                  if events_times.iloc[r][\"block_type_index\"]\n                  in block_types_indices]\nspikes_times, neurons_indices = gcnu_common.utils.neural_data_analysis.\\\n    removeUnitsWithLessSpikesThanThrInAnyTrial(\n        spikes_times=spikes_times,\n        min_nSpikes_perNeuron_perTrial=min_nSpikes_perNeuron_perTrial)\nspikes_times = [[torch.tensor(spikes_times[r][n])\n                 for n in range(len(spikes_times[r]))]\n                for r in range(len(spikes_times))]\nn_trials = len(spikes_times)\nn_neurons = len(spikes_times[0])"
      ]
    },
    {
      "cell_type": "markdown",
      "metadata": {},
      "source": [
        "### 1.3 Check that spikes have been epoched correctly\n\n"
      ]
    },
    {
      "cell_type": "markdown",
      "metadata": {},
      "source": [
        "### Plot spikes \nPlot the spikes of all trials of a randomly chosen neuron. Most trials should\ncontain at least one spike.\n\n"
      ]
    },
    {
      "cell_type": "code",
      "execution_count": null,
      "metadata": {
        "collapsed": false
      },
      "outputs": [],
      "source": [
        "neuron_to_plot_index = torch.randint(low=0, high=n_neurons, size=(1,)).item()\nfig = svGPFA.plot.plotUtilsPlotly.getSpikesTimesPlotOneNeuron(\n    spikes_times=spikes_times,\n    neuron_index=neuron_to_plot_index,\n    title=f\"Neuron index: {neuron_to_plot_index}\",\n)\nfig"
      ]
    },
    {
      "cell_type": "markdown",
      "metadata": {},
      "source": [
        "### Run some simple checks on spikes\nThe function ``checkEpochedSpikesTimes`` tests that:\n\n  a. every neuron fired at least one spike across all trials,\n  b. for each trial, the spikes times of every neuron are between the trial\n     start and end times.\n\nIf any check fails, a ``ValueError`` will be raised. Otherwise a checks\npassed message should be printed.\n\n"
      ]
    },
    {
      "cell_type": "code",
      "execution_count": null,
      "metadata": {
        "collapsed": false
      },
      "outputs": [],
      "source": [
        "try:\n    gcnu_common.utils.neural_data_analysis.checkEpochedSpikesTimes(\n        spikes_times=spikes_times, trials_start_times=trials_start_times,\n        trials_end_times=trials_end_times,\n    )\nexcept ValueError:\n    raise\nprint(\"Checks passed\")"
      ]
    },
    {
      "cell_type": "markdown",
      "metadata": {},
      "source": [
        "### 1.4 Set estimation hyperparameters\n\n"
      ]
    },
    {
      "cell_type": "code",
      "execution_count": null,
      "metadata": {
        "collapsed": false
      },
      "outputs": [],
      "source": [
        "n_latents = 10\nem_max_iter_dyn = 200\nest_init_number = 39\nest_init_config_filename_pattern = \"../init/{:08d}_estimation_metaData.ini\"\nmodel_save_filename = \"../results/basal_ganglia_model.pickle\""
      ]
    },
    {
      "cell_type": "markdown",
      "metadata": {},
      "source": [
        "### 1.5 Get parameters\n\n"
      ]
    },
    {
      "cell_type": "markdown",
      "metadata": {},
      "source": [
        "#### Dynamic parameters specification\n\n"
      ]
    },
    {
      "cell_type": "code",
      "execution_count": null,
      "metadata": {
        "collapsed": false
      },
      "outputs": [],
      "source": [
        "dynamic_params_spec = {\"optim_params\": {\"em_max_iter\": em_max_iter_dyn}}"
      ]
    },
    {
      "cell_type": "markdown",
      "metadata": {},
      "source": [
        "#### Config file parameters specification\n\n"
      ]
    },
    {
      "cell_type": "code",
      "execution_count": null,
      "metadata": {
        "collapsed": false
      },
      "outputs": [],
      "source": [
        "args_info = svGPFA.utils.initUtils.getArgsInfo()\nest_init_config_filename = est_init_config_filename_pattern.format(\n    est_init_number)\nest_init_config = configparser.ConfigParser()\nest_init_config.read(est_init_config_filename)\n\nstrings_dict = gcnu_common.utils.config_dict.GetDict(\n    config=est_init_config).get_dict()\nconfig_file_params_spec = \\\n    svGPFA.utils.initUtils.getParamsDictFromStringsDict(\n        n_latents=n_latents, n_trials=n_trials,\n        strings_dict=strings_dict, args_info=args_info)"
      ]
    },
    {
      "cell_type": "markdown",
      "metadata": {},
      "source": [
        "#### Finally, get the parameters from the dynamic and configuration file parameter specifications\n\n"
      ]
    },
    {
      "cell_type": "code",
      "execution_count": null,
      "metadata": {
        "collapsed": false
      },
      "outputs": [],
      "source": [
        "params, kernels_types = svGPFA.utils.initUtils.getParamsAndKernelsTypes(\n    n_trials=n_trials, n_neurons=n_neurons, n_latents=n_latents,\n    trials_start_times=trials_start_times,\n    trials_end_times=trials_end_times,\n    dynamic_params_spec=dynamic_params_spec,\n    config_file_params_spec=config_file_params_spec)"
      ]
    },
    {
      "cell_type": "markdown",
      "metadata": {},
      "source": [
        "#### 1.6 Create kernels, a model and set its initial parameters\n\n"
      ]
    },
    {
      "cell_type": "markdown",
      "metadata": {},
      "source": [
        "#### Build kernels\n\n"
      ]
    },
    {
      "cell_type": "code",
      "execution_count": null,
      "metadata": {
        "collapsed": false
      },
      "outputs": [],
      "source": [
        "kernels_params0 = params[\"initial_params\"][\"posterior_on_latents\"][\"kernels_matrices_store\"][\"kernels_params0\"]\nkernels = svGPFA.utils.miscUtils.buildKernels(\n    kernels_types=kernels_types, kernels_params=kernels_params0)"
      ]
    },
    {
      "cell_type": "markdown",
      "metadata": {},
      "source": [
        "#### Create model\n\n"
      ]
    },
    {
      "cell_type": "code",
      "execution_count": null,
      "metadata": {
        "collapsed": false
      },
      "outputs": [],
      "source": [
        "kernelMatrixInvMethod = svGPFA.stats.svGPFAModelFactory.kernelMatrixInvChol\nindPointsCovRep = svGPFA.stats.svGPFAModelFactory.indPointsCovChol\nmodel = svGPFA.stats.svGPFAModelFactory.SVGPFAModelFactory.buildModelPyTorch(\n    conditionalDist=svGPFA.stats.svGPFAModelFactory.PointProcess,\n    linkFunction=svGPFA.stats.svGPFAModelFactory.ExponentialLink,\n    embeddingType=svGPFA.stats.svGPFAModelFactory.LinearEmbedding,\n    kernels=kernels, kernelMatrixInvMethod=kernelMatrixInvMethod,\n    indPointsCovRep=indPointsCovRep)"
      ]
    },
    {
      "cell_type": "markdown",
      "metadata": {},
      "source": [
        "#### Set initial parameters\n\n"
      ]
    },
    {
      "cell_type": "code",
      "execution_count": null,
      "metadata": {
        "collapsed": false
      },
      "outputs": [],
      "source": [
        "model.setParamsAndData(\n    measurements=spikes_times,\n    initial_params=params[\"initial_params\"],\n    eLLCalculationParams=params[\"ell_calculation_params\"],\n    priorCovRegParam=params[\"optim_params\"][\"prior_cov_reg_param\"])"
      ]
    },
    {
      "cell_type": "markdown",
      "metadata": {},
      "source": [
        "### 1.7 Maximize the Lower Bound\n(Warning: with the parameters above, this step takes around 5 minutes for 30 em_max_iter)\n\n"
      ]
    },
    {
      "cell_type": "code",
      "execution_count": null,
      "metadata": {
        "collapsed": false
      },
      "outputs": [],
      "source": [
        "# svEM = svGPFA.stats.svEM.SVEM_PyTorch()\n# tic = time.perf_counter()\n# lowerBoundHist, elapsedTimeHist, terminationInfo, iterationsModelParams = \\\n# svEM.maximize(model=model, optim_params=params[\"optim_params\"],\n#               method=params[\"optim_params\"][\"optim_method\"], out=sys.stdout)\n# toc = time.perf_counter()\n# print(f\"Elapsed time {toc - tic:0.4f} seconds\")\n\n# resultsToSave = {\"lowerBoundHist\": lowerBoundHist,\n#                  \"elapsedTimeHist\": elapsedTimeHist,\n#                  \"terminationInfo\": terminationInfo,\n#                  \"iterationModelParams\": iterationsModelParams,\n#                  \"model\": model}\n# with open(model_save_filename, \"wb\") as f:\n#     pickle.dump(resultsToSave, f)\n# print(\"Saved results to {:s}\".format(model_save_filename))"
      ]
    },
    {
      "cell_type": "markdown",
      "metadata": {},
      "source": [
        "..\n\n"
      ]
    },
    {
      "cell_type": "code",
      "execution_count": null,
      "metadata": {
        "collapsed": false
      },
      "outputs": [],
      "source": [
        "with open(model_save_filename, \"rb\") as f:\n    estResults = pickle.load(f)\nlowerBoundHist = estResults[\"lowerBoundHist\"]\nelapsedTimeHist = estResults[\"elapsedTimeHist\"]\nmodel = estResults[\"model\"]"
      ]
    },
    {
      "cell_type": "markdown",
      "metadata": {},
      "source": [
        "## 2 Plotting\n\n"
      ]
    },
    {
      "cell_type": "markdown",
      "metadata": {},
      "source": [
        "### 2.1 Imports for plotting\n\n"
      ]
    },
    {
      "cell_type": "code",
      "execution_count": null,
      "metadata": {
        "collapsed": false
      },
      "outputs": [],
      "source": [
        "import numpy as np\nimport pandas as pd\nimport plotly.express as px\nimport svGPFA.plot.plotUtilsPlotly"
      ]
    },
    {
      "cell_type": "markdown",
      "metadata": {},
      "source": [
        "#### 2.2 Set plotting parameters\n\n"
      ]
    },
    {
      "cell_type": "code",
      "execution_count": null,
      "metadata": {
        "collapsed": false
      },
      "outputs": [],
      "source": [
        "n_time_steps_CIF = 100\nlatent_to_plot = 0\nneuron_to_plot = 0\ntrial_to_plot = 0\northo_latents_to_plot = (0, 1, 2)\nevents_times_filename = \"../data/s008_tab_m1113182_LR__20210516_173815__probabilistic_switching.df.csv\"\ntrial_choice_column_name = \"choice\"\ntrial_rewarded_column_name = \"rewarded\"\nalign_times_column_name = \"aligned__last_center_out\"\ncenterIn_times_column_name = \"aligned__last_center_in\"\ncenterOut_times_column_name = \"aligned__last_center_out\"\nsideIn_times_column_name = \"aligned__side_in_after_last_center_out\"\nmarked_events_colors = [\"yellow\",\"magenta\",\"cyan\",\"black\"]\nfig_filename_prefix = \"../figures/basal_ganglia_\"\n\nevents_times = pd.read_csv(events_times_filename)\ntrials_choices = events_times.iloc[trials_indices][trial_choice_column_name].to_numpy()\n\ntrials_ids = np.array([i for i in trials_indices])\nchoices_colors_patterns = [\"rgba(0,0,255,{:f})\", \"rgba(255,0,0,{:f})\"]\ntrials_colors_patterns = [choices_colors_patterns[0]\n                          if trials_choices[r] == -1\n                          else choices_colors_patterns[1]\n                          for r in range(n_trials)]\ntrials_colors = [trial_color_pattern.format(1.0)\n                 for trial_color_pattern in trials_colors_patterns]\nalign_times = events_times.iloc[trials_indices][align_times_column_name].to_numpy()\ncenterIn_times = events_times.iloc[trials_indices][centerIn_times_column_name].to_numpy()\ncenterOut_times = events_times.iloc[trials_indices][centerOut_times_column_name].to_numpy()\nsideIn_times = events_times.iloc[trials_indices][sideIn_times_column_name].to_numpy()\ntrialEnd_times = np.append(centerIn_times[1:], np.NAN)\nmarked_events_times = np.column_stack((centerIn_times, centerOut_times, sideIn_times, trialEnd_times))\n\ntrials_choices = events_times.iloc[trials_indices][trial_choice_column_name].to_numpy()\ntrials_rewarded = events_times.iloc[trials_indices][trial_rewarded_column_name].to_numpy()\ntrials_annotations = {\"choice\": trials_choices,\n                      \"rewarded\": trials_rewarded,\n                      \"choice_prev\": np.insert(trials_choices[:-1], 0,\n                                               np.NAN),\n                      \"rewarded_prev\": np.insert(trials_rewarded[:-1], 0,\n                                                 np.NAN)}\ntrials_times = svGPFA.utils.miscUtils.getTrialsTimes(\n    start_times=trials_start_times,\n    end_times=trials_end_times,\n    n_steps=n_time_steps_CIF)"
      ]
    },
    {
      "cell_type": "markdown",
      "metadata": {},
      "source": [
        "#### 2.3 Lower bound history\n\n"
      ]
    },
    {
      "cell_type": "code",
      "execution_count": null,
      "metadata": {
        "collapsed": false
      },
      "outputs": [],
      "source": [
        "fig = svGPFA.plot.plotUtilsPlotly.getPlotLowerBoundHist(\n    lowerBoundHist=lowerBoundHist)\nfig_filename_pattern = \"{:s}_lowerBoundHistVSIterNo.{:s}\"\nfig.write_image(fig_filename_pattern.format(fig_filename_prefix, \"png\"))\nfig.write_html(fig_filename_pattern.format(fig_filename_prefix, \"html\"))\nfig"
      ]
    },
    {
      "cell_type": "markdown",
      "metadata": {},
      "source": [
        "#### 2.4 Latent across trials\n\n"
      ]
    },
    {
      "cell_type": "code",
      "execution_count": null,
      "metadata": {
        "collapsed": false
      },
      "outputs": [],
      "source": [
        "testMuK, testVarK = model.predictLatents(times=trials_times)\nfig = svGPFA.plot.plotUtilsPlotly.getPlotLatentAcrossTrials(\n    times=trials_times.numpy(),\n    latentsMeans=testMuK,\n    latentsSTDs=torch.sqrt(testVarK),\n    trials_ids=trials_ids,\n    latentToPlot=latent_to_plot,\n    trials_colors_patterns=trials_colors_patterns,\n    xlabel=\"Time (msec)\")\nfig_filename_pattern = \"{:s}_latent{:d}.{:s}\"\nfig.write_image(fig_filename_pattern.format(fig_filename_prefix,\n                                            latent_to_plot, \"png\"))\nfig.write_html(fig_filename_pattern.format(fig_filename_prefix,\n                                           latent_to_plot, \"html\"))\nfig"
      ]
    },
    {
      "cell_type": "markdown",
      "metadata": {},
      "source": [
        "#### 2.5 Orthonormalized latent across trials\n\n"
      ]
    },
    {
      "cell_type": "code",
      "execution_count": null,
      "metadata": {
        "collapsed": false
      },
      "outputs": [],
      "source": [
        "testMuK, testVarK = model.predictLatents(times=trials_times)\ntestMuK_np = [testMuK[r].detach().numpy() for r in range(len(testMuK))]\nestimatedC, estimatedD = model.getSVEmbeddingParams()\nestimatedC_np = estimatedC.detach().numpy()\nfig = svGPFA.plot.plotUtilsPlotly.getPlotOrthonormalizedLatentAcrossTrials(\n    trials_times=trials_times,\n    latentsMeans=testMuK_np,\n    C=estimatedC_np,\n    trials_ids=trials_ids,\n    latentToPlot=latent_to_plot,\n    align_event_times=align_times, marked_events_times=marked_events_times,\n    marked_events_colors=marked_events_colors,\n    trials_annotations=trials_annotations,\n    trials_colors=trials_colors,\n    xlabel=\"Time (msec)\")\nfig_filename_pattern = \"{:s}_orthonormalized_latent{:d}.{:s}\"\nfig.write_image(fig_filename_pattern.format(fig_filename_prefix,\n                                            latent_to_plot, \"png\"))\nfig.write_html(fig_filename_pattern.format(fig_filename_prefix,\n                                           latent_to_plot, \"html\"))\nfig"
      ]
    },
    {
      "cell_type": "markdown",
      "metadata": {},
      "source": [
        "### 2.7 Joint evolution of first three orthonormalized latents\n\n"
      ]
    },
    {
      "cell_type": "code",
      "execution_count": null,
      "metadata": {
        "collapsed": false
      },
      "outputs": [],
      "source": [
        "fig = svGPFA.plot.plotUtilsPlotly.get3DPlotOrthonormalizedLatentsAcrossTrials(\n    trials_times=trials_times.numpy(), latentsMeans=testMuK_np,\n    C=estimatedC_np, latentsToPlot=ortho_latents_to_plot,\n    align_event_times=align_times, marked_events_times=marked_events_times,\n    marked_events_colors=marked_events_colors,\n    trials_ids=trials_ids,\n    trials_annotations=trials_annotations,\n    trials_colors=trials_colors)\northo_latents_to_plot_str = \"\".join(str(i)+\"_\" for i in ortho_latents_to_plot)\nfig_filename_pattern = \"{:s}_orthonormalized_latents{:s}.{:s}\"\nfig.write_image(fig_filename_pattern.format(fig_filename_prefix,\n                                            ortho_latents_to_plot_str, \"png\"))\nfig.write_html(fig_filename_pattern.format(fig_filename_prefix,\n                                           ortho_latents_to_plot_str, \"html\"))\nfig"
      ]
    },
    {
      "cell_type": "markdown",
      "metadata": {},
      "source": [
        "### 2.6 Embedding\n\n"
      ]
    },
    {
      "cell_type": "code",
      "execution_count": null,
      "metadata": {
        "collapsed": false
      },
      "outputs": [],
      "source": [
        "embeddingMeans, embeddingVars = model.predictEmbedding(times=trials_times)\nembeddingMeans = embeddingMeans.detach().numpy()\nembeddingVars = embeddingVars.detach().numpy()\ntitle = \"Neuron {:d}\".format(neuron_to_plot)\nfig = svGPFA.plot.plotUtilsPlotly.getPlotEmbeddingAcrossTrials(\n    times=trials_times.numpy(),\n    embeddingsMeans=embeddingMeans[:, :, neuron_to_plot],\n    embeddingsSTDs=np.sqrt(embeddingVars[:, :, neuron_to_plot]),\n    trials_colors_patterns=trials_colors_patterns,\n    title=title)\nfig_filename_pattern = \"{:s}_embedding_neuron{:d}.{:s}\"\nfig.write_image(fig_filename_pattern.format(fig_filename_prefix,\n                                            neuron_to_plot, \"png\"))\nfig.write_html(fig_filename_pattern.format(fig_filename_prefix,\n                                           neuron_to_plot, \"html\"))\nfig"
      ]
    },
    {
      "cell_type": "markdown",
      "metadata": {},
      "source": [
        "### 2.7 Intensity function\n\n"
      ]
    },
    {
      "cell_type": "code",
      "execution_count": null,
      "metadata": {
        "collapsed": false
      },
      "outputs": [],
      "source": [
        "with torch.no_grad():\n    cif_values = model.computeExpectedPosteriorCIFs(times=trials_times)\nfig = svGPFA.plot.plotUtilsPlotly.getPlotCIFsOneNeuronAllTrials(\n    trials_times=trials_times, cif_values=cif_values,\n    neuron_index=neuron_to_plot, spikes_times=spikes_times,\n    align_event_times=centerOut_times, marked_events_times=marked_events_times,\n    marked_events_colors=marked_events_colors, trials_ids=trials_ids,\n    trials_annotations=trials_annotations,\n    trials_colors=trials_colors,\n)\nfig_filename_pattern = \"{:s}_intensity_function_neuron{:d}.{:s}\"\nfig.write_image(fig_filename_pattern.format(fig_filename_prefix,\n                                            neuron_to_plot, \"png\"))\nfig.write_html(fig_filename_pattern.format(fig_filename_prefix,\n                                           neuron_to_plot, \"html\"))\nfig"
      ]
    },
    {
      "cell_type": "markdown",
      "metadata": {},
      "source": [
        "### 2.8 Embedding parameters\n\n"
      ]
    },
    {
      "cell_type": "code",
      "execution_count": null,
      "metadata": {
        "collapsed": false
      },
      "outputs": [],
      "source": [
        "estimatedC, estimatedD = model.getSVEmbeddingParams()\nfig = svGPFA.plot.plotUtilsPlotly.getPlotOrthonormalizedEmbeddingParams(\n    C=estimatedC.numpy(), d=estimatedD.numpy())\nfig_filename_pattern = \"{:s}_orthonormalized_embedding_params.{:s}\"\nfig.write_image(fig_filename_pattern.format(fig_filename_prefix, \"png\"))\nfig.write_html(fig_filename_pattern.format(fig_filename_prefix, \"html\"))\nfig"
      ]
    },
    {
      "cell_type": "markdown",
      "metadata": {},
      "source": [
        "### 2.9 Kernels parameters\n\n"
      ]
    },
    {
      "cell_type": "code",
      "execution_count": null,
      "metadata": {
        "collapsed": false
      },
      "outputs": [],
      "source": [
        "kernelsParams = model.getKernelsParams()\nkernelsTypes = [type(kernel).__name__ for kernel in model.getKernels()]\nfig = svGPFA.plot.plotUtilsPlotly.getPlotKernelsParams(\n    kernelsTypes=kernelsTypes, kernelsParams=kernelsParams)\nfig_filename_pattern = \"{:s}_kernels_params.{:s}\"\nfig.write_image(fig_filename_pattern.format(fig_filename_prefix, \"png\"))\nfig.write_html(fig_filename_pattern.format(fig_filename_prefix, \"html\"))\nfig"
      ]
    },
    {
      "cell_type": "markdown",
      "metadata": {},
      "source": [
        "## 3 Goodness of fit (GOF)\n\n"
      ]
    },
    {
      "cell_type": "code",
      "execution_count": null,
      "metadata": {
        "collapsed": false
      },
      "outputs": [],
      "source": [
        "trial_GOF = 0\nneuron_GOF = 0\ncif_values_GOF = cif_values[trial_GOF][neuron_GOF]\ntrial_times_GOF = trials_times[trial_GOF, :, 0]\nspikes_times_GOF = spikes_times[trial_GOF][neuron_to_plot].numpy()"
      ]
    },
    {
      "cell_type": "markdown",
      "metadata": {},
      "source": [
        "### 3.1 KS time-rescaling GOF test\n\n"
      ]
    },
    {
      "cell_type": "code",
      "execution_count": null,
      "metadata": {
        "collapsed": false
      },
      "outputs": [],
      "source": [
        "ks_test_gamma = 10\nif len(spikes_times_GOF) > 0:\n    with warnings.catch_warnings():\n        warnings.simplefilter(\"ignore\")\n        diffECDFsX, diffECDFsY, estECDFx, estECDFy, simECDFx, simECDFy, cb = gcnu_common.stats.pointProcesses.tests.KSTestTimeRescalingNumericalCorrection(spikes_times=spikes_times_GOF,\n                                                                                      cif_times=trial_times_GOF,\n                                                                                      cif_values=cif_values_GOF,\n                                                                                      gamma=ks_test_gamma)\ntitle = \"Trial {:d}, Neuron {:d} ({:d} spikes)\".format(\n    trial_GOF, neuron_GOF, len(spikes_times_GOF))\nfig = svGPFA.plot.plotUtilsPlotly.getPlotResKSTestTimeRescalingNumericalCorrection(diffECDFsX=diffECDFsX, diffECDFsY=diffECDFsY, estECDFx=estECDFx, estECDFy=estECDFy, simECDFx=simECDFx, simECDFy=simECDFy, cb=cb, title=title)\nfig_filename_pattern = \\\n    \"{:s}_ksTestTimeRescaling_numericalCorrection_trial{:03d}_neuron{:03d}..{:s}\"\nfig.write_image(fig_filename_pattern.format(fig_filename_prefix,\n                                            trial_GOF, neuron_GOF, \"png\"))\nfig.write_html(fig_filename_pattern.format(fig_filename_prefix,\n                                           trial_GOF, neuron_GOF, \"png\"))\nfig"
      ]
    },
    {
      "cell_type": "markdown",
      "metadata": {},
      "source": [
        "### 3.2 ROC predictive analysis\n\n"
      ]
    },
    {
      "cell_type": "code",
      "execution_count": null,
      "metadata": {
        "collapsed": false
      },
      "outputs": [],
      "source": [
        "with warnings.catch_warnings():\n    warnings.simplefilter(\"ignore\")\n    fpr, tpr, roc_auc = svGPFA.utils.miscUtils.computeSpikeClassificationROC(\n        spikes_times=spikes_times_GOF,\n        cif_times=trial_times_GOF,\n        cif_values=cif_values_GOF)\nfig = svGPFA.plot.plotUtilsPlotly.getPlotResROCAnalysis(\n    fpr=fpr, tpr=tpr, auc=roc_auc, title=title)\nfig_filename_pattern = \"{:s}_predictive_analysis_trial{:03d}_neuron{:03d}..{:s}\"\nfig.write_image(fig_filename_pattern.format(fig_filename_prefix,\n                                            trial_GOF, neuron_GOF, \"png\"))\nfig.write_html(fig_filename_pattern.format(fig_filename_prefix,\n                                           trial_GOF, neuron_GOF, \"png\"))\nfig"
      ]
    },
    {
      "cell_type": "markdown",
      "metadata": {},
      "source": [
        ".. raw:: html\n\n   <h3><font color=\"red\">To run the Python script or Jupyter notebook below,\n   please download them to the <i>examples/sphinx_gallery</i> folder of the\n   repository and execute them from there.</font></h3>\n\n"
      ]
    },
    {
      "cell_type": "code",
      "execution_count": null,
      "metadata": {
        "collapsed": false
      },
      "outputs": [],
      "source": [
        "# sphinx_gallery_thumbnail_path = '_static/basal_ganglia.png'"
      ]
    }
  ],
  "metadata": {
    "kernelspec": {
      "display_name": "Python 3",
      "language": "python",
      "name": "python3"
    },
    "language_info": {
      "codemirror_mode": {
        "name": "ipython",
        "version": 3
      },
      "file_extension": ".py",
      "mimetype": "text/x-python",
      "name": "python",
      "nbconvert_exporter": "python",
      "pygments_lexer": "ipython3",
      "version": "3.7.13"
    }
  },
  "nbformat": 4,
  "nbformat_minor": 0
}