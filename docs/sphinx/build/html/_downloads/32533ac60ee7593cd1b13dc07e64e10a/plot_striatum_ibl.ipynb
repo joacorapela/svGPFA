{
  "cells": [
    {
      "cell_type": "code",
      "execution_count": null,
      "metadata": {
        "collapsed": false
      },
      "outputs": [],
      "source": [
        "%matplotlib inline"
      ]
    },
    {
      "cell_type": "markdown",
      "metadata": {},
      "source": [
        "\n# IBL's Recordings from the striatum of a mouse performing a visual discrimination task\n\nIn this notebook we download publically available data from the International\nBrain Laboratory, epoch it, run svGPFA and plot its results.\n"
      ]
    },
    {
      "cell_type": "markdown",
      "metadata": {},
      "source": [
        "## 1. Setup environment\n\n"
      ]
    },
    {
      "cell_type": "markdown",
      "metadata": {},
      "source": [
        "### Import required packages\n\n"
      ]
    },
    {
      "cell_type": "code",
      "execution_count": null,
      "metadata": {
        "collapsed": false
      },
      "outputs": [],
      "source": [
        "import sys\nimport warnings\nimport pickle\nimport time\nimport configparser\nimport numpy as np\nimport pandas as pd\nimport torch\n\nfrom one.api import ONE\nimport brainbox.io.one\nimport iblUtils\n\nimport gcnu_common.utils.neural_data_analysis\nimport gcnu_common.stats.pointProcesses.tests\nimport gcnu_common.utils.config_dict\nimport svGPFA.stats.svGPFAModelFactory\nimport svGPFA.stats.svEM\nimport svGPFA.utils.miscUtils\nimport svGPFA.utils.initUtils\nimport svGPFA.plot.plotUtilsPlotly"
      ]
    },
    {
      "cell_type": "markdown",
      "metadata": {},
      "source": [
        "### Set data parameters\n\n"
      ]
    },
    {
      "cell_type": "code",
      "execution_count": null,
      "metadata": {
        "collapsed": false
      },
      "outputs": [],
      "source": [
        "eID = \"ebe2efe3-e8a1-451a-8947-76ef42427cc9\"\nprobe_id = \"probe00\"\nepoch_event_name = \"response_times\"\nclusters_ids_filename = \"../init/clustersIDs_40_64.csv\"\ntrials_ids_filename = \"../init/trialsIDs_0_89.csv\"\nmin_neuron_trials_avg_firing_rate = 0.1"
      ]
    },
    {
      "cell_type": "markdown",
      "metadata": {},
      "source": [
        "### Set estimation hyperparameters\n\n"
      ]
    },
    {
      "cell_type": "code",
      "execution_count": null,
      "metadata": {
        "collapsed": false
      },
      "outputs": [],
      "source": [
        "n_latents = 10\nem_max_iter_dyn = 200\ncommon_n_ind_points = 15\nest_init_number = 0\nest_init_config_filename_pattern = \"../init/{:08d}_IBL_estimation_metaData.ini\"\nmodel_save_filename = \"../results/stiatum_ibl_model.pickle\""
      ]
    },
    {
      "cell_type": "markdown",
      "metadata": {},
      "source": [
        "## 2. Epoch\n\n"
      ]
    },
    {
      "cell_type": "markdown",
      "metadata": {},
      "source": [
        "### Download data\n\n"
      ]
    },
    {
      "cell_type": "code",
      "execution_count": null,
      "metadata": {
        "collapsed": false
      },
      "outputs": [],
      "source": [
        "one = ONE(base_url='https://openalyx.internationalbrainlab.org',\n          password='international', silent=True)\nspikes = one.load_object(eID, 'spikes', 'alf/probe00/pykilosort')\nclusters = one.load_object(eID, \"clusters\", f\"alf/{probe_id}/pykilosort\")\ntrials = one.load_object(eID, 'trials')"
      ]
    },
    {
      "cell_type": "markdown",
      "metadata": {},
      "source": [
        "### Extract variables of interest\n\n"
      ]
    },
    {
      "cell_type": "code",
      "execution_count": null,
      "metadata": {
        "collapsed": false
      },
      "outputs": [],
      "source": [
        "clusters_ids = np.unique(spikes.clusters.tolist())\nn_clusters = len(clusters_ids)\nchannels_for_clusters_ids = clusters.channels\nels = brainbox.io.one.load_channel_locations(eID, one=one)\nlocs_for_clusters_ids = els[probe_id][\"acronym\"][channels_for_clusters_ids].tolist()"
      ]
    },
    {
      "cell_type": "markdown",
      "metadata": {},
      "source": [
        "### Epoch spikes times\n\n"
      ]
    },
    {
      "cell_type": "code",
      "execution_count": null,
      "metadata": {
        "collapsed": false
      },
      "outputs": [],
      "source": [
        "epoch_times = trials[epoch_event_name]\nn_trials = len(epoch_times)\n\nepoch_start_times = [trials[\"intervals\"][r][0] for r in range(n_trials)]\nepoch_end_times = [trials[\"intervals\"][r][1] for r in range(n_trials)]\n\nspikes_times_by_neuron = []\nfor cluster_id in clusters_ids:\n    print(f\"Processing cluster {cluster_id}\")\n    neuron_spikes_times = spikes.times[spikes.clusters==cluster_id]\n    n_epoched_spikes_times = iblUtils.epoch_neuron_spikes_times(\n        neuron_spikes_times=neuron_spikes_times,\n        epoch_times = epoch_times,\n        epoch_start_times=epoch_start_times,\n        epoch_end_times=epoch_end_times)\n    spikes_times_by_neuron.append(n_epoched_spikes_times)\nspikes_times = [[spikes_times_by_neuron[n][r] for n in range(n_clusters)]\n                for r in range(n_trials)]\n\ntrials_start_times = [epoch_start_times[r]-epoch_times[r] for r in range(n_trials)]\ntrials_end_times = [epoch_end_times[r]-epoch_times[r] for r in range(n_trials)]\nn_neurons = len(spikes_times[0])"
      ]
    },
    {
      "cell_type": "markdown",
      "metadata": {},
      "source": [
        "### Subset epoched spikes times\n\n"
      ]
    },
    {
      "cell_type": "code",
      "execution_count": null,
      "metadata": {
        "collapsed": false
      },
      "outputs": [],
      "source": [
        "# subset selected_clusters_ids\nselected_clusters_ids = np.genfromtxt(clusters_ids_filename, dtype=np.uint64)\n\nspikes_times = iblUtils.subset_clusters_ids_data(\n    selected_clusters_ids=selected_clusters_ids,\n    clusters_ids=clusters_ids,\n    spikes_times=spikes_times,\n)\nn_neurons = len(spikes_times[0])\nn_trials = len(spikes_times)\ntrials_ids = np.arange(n_trials)\n\n# subset selected_trials_ids\nselected_trials_ids = np.genfromtxt(trials_ids_filename, dtype=np.uint64)\nspikes_times, trials_start_times, trials_end_times = \\\n        iblUtils.subset_trials_ids_data(\n            selected_trials_ids=selected_trials_ids,\n            trials_ids=trials_ids,\n            spikes_times=spikes_times,\n            trials_start_times=trials_start_times,\n            trials_end_times=trials_end_times)\nn_trials = len(spikes_times)\n\n# remove units with low spike rate\nneurons_indices = torch.arange(n_neurons)\ntrials_durations = [trials_end_times[i] - trials_start_times[i]\n                    for i in range(n_trials)]\nspikes_times, neurons_indices = \\\n    gcnu_common.utils.neural_data_analysis.removeUnitsWithLessTrialAveragedFiringRateThanThr(\n        spikes_times=spikes_times, neurons_indices=neurons_indices,\n        trials_durations=trials_durations,\n        min_neuron_trials_avg_firing_rate=min_neuron_trials_avg_firing_rate)\nselected_clusters_ids = [selected_clusters_ids[i] for i in neurons_indices]\n\nn_trials = len(spikes_times)\nn_neurons = len(spikes_times[0])"
      ]
    },
    {
      "cell_type": "markdown",
      "metadata": {},
      "source": [
        "### Check that spikes have been epoched correctly\n\n"
      ]
    },
    {
      "cell_type": "markdown",
      "metadata": {},
      "source": [
        "### Plot spikes \nPlot the spikes of all trials of a randomly chosen neuron. Most trials should\ncontain at least one spike.\n\n"
      ]
    },
    {
      "cell_type": "code",
      "execution_count": null,
      "metadata": {
        "collapsed": false
      },
      "outputs": [],
      "source": [
        "neuron_to_plot_index = torch.randint(low=0, high=n_neurons, size=(1,)).item()\nfig = svGPFA.plot.plotUtilsPlotly.getSpikesTimesPlotOneNeuron(\n    spikes_times=spikes_times,\n    neuron_index=neuron_to_plot_index,\n    title=f\"Neuron index: {neuron_to_plot_index}\",\n)\nfig"
      ]
    },
    {
      "cell_type": "markdown",
      "metadata": {},
      "source": [
        "### Run some simple checks on spikes\nThe function ``checkEpochedSpikesTimes`` tests that:\n\n  a. every neuron fired at least one spike across all trials,\n  b. for each trial, the spikes times of every neuron are between the trial\n     start and end times.\n\nIf any check fails, a ``ValueError`` will be raised. Otherwise a checks\npassed message should be printed.\n\n"
      ]
    },
    {
      "cell_type": "code",
      "execution_count": null,
      "metadata": {
        "collapsed": false
      },
      "outputs": [],
      "source": [
        "try:\n    gcnu_common.utils.neural_data_analysis.checkEpochedSpikesTimes(\n        spikes_times=spikes_times, trials_start_times=trials_start_times,\n        trials_end_times=trials_end_times,\n    )\nexcept ValueError:\n    raise\nprint(\"Checks passed\")"
      ]
    },
    {
      "cell_type": "markdown",
      "metadata": {},
      "source": [
        "## 3. Get parameters\n\n"
      ]
    },
    {
      "cell_type": "markdown",
      "metadata": {},
      "source": [
        "### Dynamic parameters specification\n\n"
      ]
    },
    {
      "cell_type": "code",
      "execution_count": null,
      "metadata": {
        "collapsed": false
      },
      "outputs": [],
      "source": [
        "dynamic_params_spec = {\n    \"optim_params\": {\"em_max_iter\": em_max_iter_dyn},\n    \"ind_points_locs_params0\": {\"common_n_ind_points\": common_n_ind_points},\n}"
      ]
    },
    {
      "cell_type": "markdown",
      "metadata": {},
      "source": [
        "### Config file parameters specification\nThe configuration file appears [here](https://github.com/joacorapela/svGPFA/blob/master/examples/init/00000000_IBL_estimation_metaData.ini)\n\n"
      ]
    },
    {
      "cell_type": "code",
      "execution_count": null,
      "metadata": {
        "collapsed": false
      },
      "outputs": [],
      "source": [
        "args_info = svGPFA.utils.initUtils.getArgsInfo()\nest_init_config_filename = est_init_config_filename_pattern.format(\n    est_init_number)\nest_init_config = configparser.ConfigParser()\nest_init_config.read(est_init_config_filename)\n\nstrings_dict = gcnu_common.utils.config_dict.GetDict(\n    config=est_init_config).get_dict()\nconfig_file_params_spec = \\\n    svGPFA.utils.initUtils.getParamsDictFromStringsDict(\n        n_latents=n_latents, n_trials=n_trials,\n        strings_dict=strings_dict, args_info=args_info)"
      ]
    },
    {
      "cell_type": "markdown",
      "metadata": {},
      "source": [
        "### Get the parameters from the dynamic and configuration file parameter specifications\n\n"
      ]
    },
    {
      "cell_type": "code",
      "execution_count": null,
      "metadata": {
        "collapsed": false
      },
      "outputs": [],
      "source": [
        "params, kernels_types = svGPFA.utils.initUtils.getParamsAndKernelsTypes(\n    n_trials=n_trials, n_neurons=n_neurons, n_latents=n_latents,\n    trials_start_times=trials_start_times,\n    trials_end_times=trials_end_times,\n    dynamic_params_spec=dynamic_params_spec,\n    config_file_params_spec=config_file_params_spec)"
      ]
    },
    {
      "cell_type": "markdown",
      "metadata": {},
      "source": [
        "## 4. Estimate svGPFA model\n\n"
      ]
    },
    {
      "cell_type": "markdown",
      "metadata": {},
      "source": [
        "### Create kernels, a model and set its initial parameters\n\n"
      ]
    },
    {
      "cell_type": "markdown",
      "metadata": {},
      "source": [
        "### Build kernels\n\n"
      ]
    },
    {
      "cell_type": "code",
      "execution_count": null,
      "metadata": {
        "collapsed": false
      },
      "outputs": [],
      "source": [
        "kernels_params0 = params[\"initial_params\"][\"posterior_on_latents\"][\"kernels_matrices_store\"][\"kernels_params0\"]\nkernels = svGPFA.utils.miscUtils.buildKernels(\n    kernels_types=kernels_types, kernels_params=kernels_params0)"
      ]
    },
    {
      "cell_type": "markdown",
      "metadata": {},
      "source": [
        "### Create model\n\n"
      ]
    },
    {
      "cell_type": "code",
      "execution_count": null,
      "metadata": {
        "collapsed": false
      },
      "outputs": [],
      "source": [
        "kernelMatrixInvMethod = svGPFA.stats.svGPFAModelFactory.kernelMatrixInvChol\nindPointsCovRep = svGPFA.stats.svGPFAModelFactory.indPointsCovChol\nmodel = svGPFA.stats.svGPFAModelFactory.SVGPFAModelFactory.buildModelPyTorch(\n    conditionalDist=svGPFA.stats.svGPFAModelFactory.PointProcess,\n    linkFunction=svGPFA.stats.svGPFAModelFactory.ExponentialLink,\n    embeddingType=svGPFA.stats.svGPFAModelFactory.LinearEmbedding,\n    kernels=kernels, kernelMatrixInvMethod=kernelMatrixInvMethod,\n    indPointsCovRep=indPointsCovRep)"
      ]
    },
    {
      "cell_type": "markdown",
      "metadata": {},
      "source": [
        "### Set initial parameters\n\n"
      ]
    },
    {
      "cell_type": "code",
      "execution_count": null,
      "metadata": {
        "collapsed": false
      },
      "outputs": [],
      "source": [
        "model.setParamsAndData(\n    measurements=spikes_times,\n    initial_params=params[\"initial_params\"],\n    eLLCalculationParams=params[\"ell_calculation_params\"],\n    priorCovRegParam=params[\"optim_params\"][\"prior_cov_reg_param\"])"
      ]
    },
    {
      "cell_type": "markdown",
      "metadata": {},
      "source": [
        "### Maximize the Lower Bound\n(Warning: with the parameters above, this step takes around 5 minutes for 30 em_max_iter)\n\n"
      ]
    },
    {
      "cell_type": "code",
      "execution_count": null,
      "metadata": {
        "collapsed": false
      },
      "outputs": [],
      "source": [
        "# svEM = svGPFA.stats.svEM.SVEM_PyTorch()\n# tic = time.perf_counter()\n# lowerBoundHist, elapsedTimeHist, terminationInfo, iterationsModelParams = \\\n# svEM.maximize(model=model, optim_params=params[\"optim_params\"],\n#               method=params[\"optim_params\"][\"optim_method\"], out=sys.stdout)\n# toc = time.perf_counter()\n# print(f\"Elapsed time {toc - tic:0.4f} seconds\")\n\n# resultsToSave = {\"lowerBoundHist\": lowerBoundHist,\n#                  \"elapsedTimeHist\": elapsedTimeHist,\n#                  \"terminationInfo\": terminationInfo,\n#                  \"iterationModelParams\": iterationsModelParams,\n#                  \"model\": model}\n# with open(model_save_filename, \"wb\") as f:\n#     pickle.dump(resultsToSave, f)\n# print(\"Saved results to {:s}\".format(model_save_filename))"
      ]
    },
    {
      "cell_type": "markdown",
      "metadata": {},
      "source": [
        ".. with open(model_save_filename, \"rb\") as f:\n       estResults = pickle.load(f)\n   lowerBoundHist = estResults[\"lowerBoundHist\"]\n   elapsedTimeHist = estResults[\"elapsedTimeHist\"]\n   model = estResults[\"model\"]\n\n"
      ]
    },
    {
      "cell_type": "code",
      "execution_count": null,
      "metadata": {
        "collapsed": false
      },
      "outputs": [],
      "source": [
        "with open(model_save_filename, \"rb\") as f:\n    estResults = pickle.load(f)\nlowerBoundHist = estResults[\"lowerBoundHist\"]\nelapsedTimeHist = estResults[\"elapsedTimeHist\"]\nmodel = estResults[\"model\"]"
      ]
    },
    {
      "cell_type": "markdown",
      "metadata": {},
      "source": [
        "## 5. Goodness-of-fit analysis\n\n"
      ]
    },
    {
      "cell_type": "markdown",
      "metadata": {},
      "source": [
        "### Set goodness-of-fit variables\n\n"
      ]
    },
    {
      "cell_type": "code",
      "execution_count": null,
      "metadata": {
        "collapsed": false
      },
      "outputs": [],
      "source": [
        "ksTestGamma = 10\ntrial_for_gof = 0\ncluster_id_for_gof = 41\nn_time_steps_IF = 100\n\ncluster_id_for_gof_index = torch.nonzero(torch.IntTensor(selected_clusters_ids)==cluster_id_for_gof)\ntrials_times = svGPFA.utils.miscUtils.getTrialsTimes(\n    start_times=trials_start_times,\n    end_times=trials_end_times,\n    n_steps=n_time_steps_IF)"
      ]
    },
    {
      "cell_type": "markdown",
      "metadata": {},
      "source": [
        "### Calculate expected intensity function values (for KS test and IF plots)\n\n"
      ]
    },
    {
      "cell_type": "code",
      "execution_count": null,
      "metadata": {
        "collapsed": false
      },
      "outputs": [],
      "source": [
        "with torch.no_grad():\n    cif_values = model.computeExpectedPosteriorCIFs(times=trials_times)\ncif_values_GOF = cif_values[trial_for_gof][cluster_id_for_gof_index]"
      ]
    },
    {
      "cell_type": "markdown",
      "metadata": {},
      "source": [
        "### Perform a time-rescaling KS test (with numerical correction)\n\n"
      ]
    },
    {
      "cell_type": "code",
      "execution_count": null,
      "metadata": {
        "collapsed": false
      },
      "outputs": [],
      "source": [
        "trial_times_GOF = trials_times[trial_for_gof, :, 0]\nspikes_times_GOF = spikes_times[trial_for_gof][cluster_id_for_gof_index]\nif len(spikes_times_GOF) == 0:\n    raise ValueError(\"No spikes found for goodness-of-fit analysis\")\n\ntitle = \"Trial {:d}, Neuron {:d} ({:d} spikes)\".format(\n    trial_for_gof, cluster_id_for_gof, len(spikes_times_GOF))\n\nwith warnings.catch_warnings():\n    warnings.simplefilter(\"ignore\")\n    diffECDFsX, diffECDFsY, estECDFx, estECDFy, simECDFx, simECDFy, cb = \\\n        gcnu_common.stats.pointProcesses.tests.\\\n        KSTestTimeRescalingNumericalCorrection(spikes_times=spikes_times_GOF,\n            cif_times=trial_times_GOF, cif_values=cif_values_GOF,\n            gamma=ksTestGamma)"
      ]
    },
    {
      "cell_type": "markdown",
      "metadata": {},
      "source": [
        "### Plot result of time-rescaling KS-test\n\n"
      ]
    },
    {
      "cell_type": "code",
      "execution_count": null,
      "metadata": {
        "collapsed": false
      },
      "outputs": [],
      "source": [
        "fig = svGPFA.plot.plotUtilsPlotly.getPlotResKSTestTimeRescalingNumericalCorrection(diffECDFsX=diffECDFsX, diffECDFsY=diffECDFsY, estECDFx=estECDFx, estECDFy=estECDFy, simECDFx=simECDFx, simECDFy=simECDFy, cb=cb, title=title)\nfig"
      ]
    },
    {
      "cell_type": "markdown",
      "metadata": {},
      "source": [
        "### Perform ROC predictive analysis\n\n"
      ]
    },
    {
      "cell_type": "code",
      "execution_count": null,
      "metadata": {
        "collapsed": false
      },
      "outputs": [],
      "source": [
        "fpr, tpr, roc_auc = svGPFA.utils.miscUtils.computeSpikeClassificationROC(\n    spikes_times=spikes_times_GOF,\n    cif_times=trial_times_GOF,\n    cif_values=cif_values_GOF)"
      ]
    },
    {
      "cell_type": "markdown",
      "metadata": {},
      "source": [
        "### Plot result of ROC predictive analysis\n\n"
      ]
    },
    {
      "cell_type": "code",
      "execution_count": null,
      "metadata": {
        "collapsed": false
      },
      "outputs": [],
      "source": [
        "fig = svGPFA.plot.plotUtilsPlotly.getPlotResROCAnalysis(\n    fpr=fpr, tpr=tpr, auc=roc_auc, title=title)\nfig"
      ]
    },
    {
      "cell_type": "markdown",
      "metadata": {},
      "source": [
        "## 6. Plotting\n\n"
      ]
    },
    {
      "cell_type": "markdown",
      "metadata": {},
      "source": [
        "### Imports for plotting\n\n"
      ]
    },
    {
      "cell_type": "code",
      "execution_count": null,
      "metadata": {
        "collapsed": false
      },
      "outputs": [],
      "source": [
        "import numpy as np\nimport pandas as pd\nimport svGPFA.plot.plotUtilsPlotly"
      ]
    },
    {
      "cell_type": "markdown",
      "metadata": {},
      "source": [
        "### Set plotting variables\n\n"
      ]
    },
    {
      "cell_type": "code",
      "execution_count": null,
      "metadata": {
        "collapsed": false
      },
      "outputs": [],
      "source": [
        "latent_to_plot = 0\nlatents_to_3D_plot = [0, 2, 4]\ncluster_id_to_plot = 41\ntrial_to_plot = 0\nchoices_colors_patterns = [\"rgba(0,0,255,{:f})\", \"rgba(255,0,0,{:f})\"]\nalign_event_name = \"response_times\"\nevents_names = [\"stimOn_times\", \"response_times\", \"stimOff_times\"]\nevents_colors = [\"magenta\", \"green\", \"black\"]\nevents_markers = [\"circle\", \"circle\", \"circle\"]\n\ncluster_id_to_plot_index = torch.nonzero(torch.IntTensor(selected_clusters_ids)==cluster_id_to_plot)\n\n\nn_trials = len(spikes_times)\n\ntrials_choices = [trials[\"choice\"][trial_id] for trial_id in selected_trials_ids]\ntrials_rewarded = [trials[\"feedbackType\"][trial_id] for trial_id in selected_trials_ids]\ntrials_contrast = [trials[\"contrastRight\"][trial_id] \n                   if not np.isnan(trials[\"contrastRight\"][trial_id])\n                   else trials[\"contrastLeft\"][trial_id]\n                   for trial_id in selected_trials_ids]\ntrials_colors_patterns = [choices_colors_patterns[0]\n                          if trials_choices[r] == -1\n                          else choices_colors_patterns[1]\n                          for r in range(n_trials)]\ntrials_colors = [trial_color_pattern.format(1.0)\n                 for trial_color_pattern in trials_colors_patterns]\ntrials_annotations = {\"choice\": trials_choices,\n                      \"rewarded\": trials_rewarded,\n                      \"contrast\": trials_contrast,\n                      \"choice_prev\": np.insert(trials_choices[:-1], 0, np.NAN),\n                      \"rewarded_prev\": np.insert(trials_rewarded[:-1], 0,\n                                                 np.NAN)}\n\nevents_times = []\nfor event_name in events_names:\n    events_times.append([trials[event_name][trial_id]\n                         for trial_id in selected_trials_ids])\n\nmarked_events_times, marked_events_colors, marked_events_markers = \\\n    iblUtils.buildMarkedEventsInfo(events_times=events_times,\n                                   events_colors=events_colors,\n                                   events_markers=events_markers)\n\nalign_event_times = [trials[align_event_name][trial_id]\n                     for trial_id in selected_trials_ids]"
      ]
    },
    {
      "cell_type": "markdown",
      "metadata": {},
      "source": [
        "### Plot lower bound history\n\n"
      ]
    },
    {
      "cell_type": "code",
      "execution_count": null,
      "metadata": {
        "collapsed": false
      },
      "outputs": [],
      "source": [
        "fig = svGPFA.plot.plotUtilsPlotly.getPlotLowerBoundHist(\n    elapsedTimeHist=elapsedTimeHist, lowerBoundHist=lowerBoundHist)\nfig"
      ]
    },
    {
      "cell_type": "markdown",
      "metadata": {},
      "source": [
        "### Plot estimated latent across trials\n\n"
      ]
    },
    {
      "cell_type": "code",
      "execution_count": null,
      "metadata": {
        "collapsed": false
      },
      "outputs": [],
      "source": [
        "testMuK, testVarK = model.predictLatents(times=trials_times)\nfig = svGPFA.plot.plotUtilsPlotly.getPlotLatentAcrossTrials(\n    times=trials_times.numpy(),\n    latentsMeans=testMuK,\n    latentsSTDs=torch.sqrt(testVarK),\n    trials_ids=selected_trials_ids,\n    latentToPlot=latent_to_plot,\n    trials_colors_patterns=trials_colors_patterns,\n    xlabel=\"Time (msec)\")\nfig"
      ]
    },
    {
      "cell_type": "markdown",
      "metadata": {},
      "source": [
        "### Plot orthonormalized estimated latent across trials\n\n"
      ]
    },
    {
      "cell_type": "code",
      "execution_count": null,
      "metadata": {
        "collapsed": false
      },
      "outputs": [],
      "source": [
        "testMuK, _ = model.predictLatents(times=trials_times)\ntest_mu_k_np = [testMuK[r].detach().numpy() for r in range(len(testMuK))]\nestimatedC, estimatedD = model.getSVEmbeddingParams()\nestimatedC_np = estimatedC.detach().numpy()\nfig = svGPFA.plot.plotUtilsPlotly.getPlotOrthonormalizedLatentAcrossTrials(\n    trials_times=trials_times, latentsMeans=test_mu_k_np, latentToPlot=latent_to_plot,\n    align_event_times=align_event_times,\n    marked_events_times=marked_events_times,\n    marked_events_colors=marked_events_colors,\n    marked_events_markers=marked_events_markers,\n    trials_colors=trials_colors,\n    trials_annotations=trials_annotations,\n    C=estimatedC_np, trials_ids=selected_trials_ids,\n    xlabel=\"Time (msec)\")\nfig"
      ]
    },
    {
      "cell_type": "markdown",
      "metadata": {},
      "source": [
        "### Plot 3D scatter plot of orthonormalized latents\n\n"
      ]
    },
    {
      "cell_type": "code",
      "execution_count": null,
      "metadata": {
        "collapsed": false
      },
      "outputs": [],
      "source": [
        "fig = svGPFA.plot.plotUtilsPlotly.get3DPlotOrthonormalizedLatentsAcrossTrials(\n    trials_times=trials_times.numpy(), latentsMeans=test_mu_k_np,\n    C=estimatedC_np, trials_ids=selected_trials_ids,\n    latentsToPlot=latents_to_3D_plot,\n    align_event_times=align_event_times,\n    marked_events_times=marked_events_times,\n    marked_events_colors=marked_events_colors,\n    marked_events_markers=marked_events_markers,\n    trials_colors=trials_colors,\n    trials_annotations=trials_annotations)\nfig"
      ]
    },
    {
      "cell_type": "markdown",
      "metadata": {},
      "source": [
        "### Plot embedding\n\n"
      ]
    },
    {
      "cell_type": "code",
      "execution_count": null,
      "metadata": {
        "collapsed": false
      },
      "outputs": [],
      "source": [
        "embeddingMeans, embeddingVars = model.predictEmbedding(times=trials_times)\nembeddingMeans = embeddingMeans.detach().numpy()\nembeddingVars = embeddingVars.detach().numpy()\ntitle = \"Neuron {:d}\".format(cluster_id_to_plot)\nfig = svGPFA.plot.plotUtilsPlotly.getPlotEmbeddingAcrossTrials(\n    times=trials_times.numpy(),\n    embeddingsMeans=embeddingMeans[:, :, cluster_id_to_plot_index],\n    embeddingsSTDs=np.sqrt(embeddingVars[:, :, cluster_id_to_plot_index]),\n    trials_colors_patterns=trials_colors_patterns,\n    title=title)\nfig"
      ]
    },
    {
      "cell_type": "markdown",
      "metadata": {},
      "source": [
        "### Plot intensity functions for one neuron and all trials\n\n"
      ]
    },
    {
      "cell_type": "code",
      "execution_count": null,
      "metadata": {
        "collapsed": false
      },
      "outputs": [],
      "source": [
        "title = f\"Cluster ID: {clusters_ids[cluster_id_to_plot_index]}, Region: {locs_for_clusters_ids[cluster_id_to_plot]}\"\nfig = svGPFA.plot.plotUtilsPlotly.getPlotCIFsOneNeuronAllTrials(\n    trials_times=trials_times,\n    cif_values=cif_values,\n    neuron_index=cluster_id_to_plot_index,\n    spikes_times=spikes_times,\n    trials_ids=selected_trials_ids,\n    align_event_times=align_event_times,\n    marked_events_times=marked_events_times,\n    marked_events_colors=marked_events_colors,\n    marked_events_markers=marked_events_markers,\n    trials_annotations=trials_annotations,\n    trials_colors=trials_colors,\n    title=title)\nfig"
      ]
    },
    {
      "cell_type": "markdown",
      "metadata": {},
      "source": [
        "### Plot orthonormalized embedding parameters\n\n"
      ]
    },
    {
      "cell_type": "code",
      "execution_count": null,
      "metadata": {
        "collapsed": false
      },
      "outputs": [],
      "source": [
        "hovertemplate = \"value: %{y}<br>\" + \\\n                \"neuron index: %{x}<br>\" + \\\n                \"%{text}\"\ntext = [f\"cluster_id: {cluster_id}\" for cluster_id in selected_clusters_ids]\nestimatedC, estimatedD = model.getSVEmbeddingParams()\nfig = svGPFA.plot.plotUtilsPlotly.getPlotOrthonormalizedEmbeddingParams(\n    C=estimatedC.numpy(), d=estimatedD.numpy(),\n    hovertemplate=hovertemplate, text=text)\nfig"
      ]
    },
    {
      "cell_type": "markdown",
      "metadata": {},
      "source": [
        "### Plot kernel parameters\n\n"
      ]
    },
    {
      "cell_type": "code",
      "execution_count": null,
      "metadata": {
        "collapsed": false
      },
      "outputs": [],
      "source": [
        "kernelsParams = model.getKernelsParams()\nkernelsTypes = [type(kernel).__name__ for kernel in model.getKernels()]\nfig = svGPFA.plot.plotUtilsPlotly.getPlotKernelsParams(\n    kernelsTypes=kernelsTypes, kernelsParams=kernelsParams)\nfig"
      ]
    },
    {
      "cell_type": "markdown",
      "metadata": {},
      "source": [
        ".. raw:: html\n\n   <h3><font color=\"red\">To run the Python script or Jupyter notebook below,\n   please download them to the <i>examples/sphinx_gallery</i> folder of the\n   repository and execute them from there.</font></h3>\n\n"
      ]
    },
    {
      "cell_type": "code",
      "execution_count": null,
      "metadata": {
        "collapsed": false
      },
      "outputs": [],
      "source": [
        "# sphinx_gallery_thumbnail_path = '_static/ibl_logo.png'"
      ]
    }
  ],
  "metadata": {
    "kernelspec": {
      "display_name": "Python 3",
      "language": "python",
      "name": "python3"
    },
    "language_info": {
      "codemirror_mode": {
        "name": "ipython",
        "version": 3
      },
      "file_extension": ".py",
      "mimetype": "text/x-python",
      "name": "python",
      "nbconvert_exporter": "python",
      "pygments_lexer": "ipython3",
      "version": "3.9.16"
    }
  },
  "nbformat": 4,
  "nbformat_minor": 0
}